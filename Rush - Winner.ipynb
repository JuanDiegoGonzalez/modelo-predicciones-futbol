{
 "cells": [
  {
   "cell_type": "markdown",
   "id": "e18e8c07-69af-4177-bf8e-d9df99481f11",
   "metadata": {},
   "source": [
    "### 0. Importación de librerías y carga de datos"
   ]
  },
  {
   "cell_type": "code",
   "execution_count": null,
   "id": "9ecb0d89-ed29-4100-8a52-8d7d8b2ff5dc",
   "metadata": {},
   "outputs": [],
   "source": [
    "# Librerías para manejo de datos\n",
    "import pandas as pd\n",
    "import numpy as np\n",
    "import matplotlib.pyplot as plt\n",
    "import seaborn as sns\n",
    "\n",
    "# Composicion de pipelines\n",
    "from sklearn.compose import ColumnTransformer\n",
    "from sklearn.pipeline import Pipeline\n",
    "from sklearn.impute import SimpleImputer\n",
    "from sklearn.preprocessing import PolynomialFeatures\n",
    "from sklearn.preprocessing import MinMaxScaler\n",
    "from sklearn.preprocessing import StandardScaler, PolynomialFeatures\n",
    "\n",
    "# Para realizar la separación del conjunto de aprendizaje en entrenamiento y test.\n",
    "from sklearn.model_selection import train_test_split\n",
    "\n",
    "# Regresion lineal\n",
    "from sklearn.linear_model import LinearRegression\n",
    "\n",
    "# Importar/ Exportar modelos\n",
    "from joblib import dump, load\n",
    "\n",
    "# Metricas\n",
    "from sklearn.metrics import mean_squared_error as mse\n",
    "from sklearn.metrics import r2_score\n",
    "\n",
    "# q-q plots\n",
    "import scipy.stats as stats\n",
    "\n",
    "# Para sacar un reporte estadístico que podemos usar para determinar las importancia de las variables explicativas.\n",
    "import statsmodels.api as sm "
   ]
  },
  {
   "cell_type": "code",
   "execution_count": null,
   "id": "9f5b8639-301c-49e7-97ba-1db90200db0b",
   "metadata": {},
   "outputs": [],
   "source": [
    "# Se cargan los datos\n",
    "# Ubicación de los datos, deben estar en la misma carpeta que este notebook\n",
    "pais = \"espana\"\n",
    "liga = \"laliga\"\n",
    "\n",
    "file = open(f\"versiones/{pais}_{liga}.txt\", \"r\")\n",
    "version = int(file.read())-1\n",
    "file.close()\n",
    "\n",
    "db_location = f\"data/{pais}_{liga}/version{version}/resultados_anteriores.csv\"\n",
    "\n",
    "# Se leen los datos, estan separados con ','\n",
    "data = pd.read_csv(db_location, sep=',', encoding = 'utf-8', na_values = '-')"
   ]
  },
  {
   "cell_type": "markdown",
   "id": "dd37416f-1e12-4dfb-9eca-52f1e5166005",
   "metadata": {},
   "source": [
    "### 1. Entendimiento de los datos"
   ]
  },
  {
   "cell_type": "code",
   "execution_count": null,
   "id": "5dbe022a-536d-4e94-a6b6-a8a28bc3dd6f",
   "metadata": {},
   "outputs": [],
   "source": [
    "# Se revisa la forma general de los datos cargados\n",
    "data.shape"
   ]
  },
  {
   "cell_type": "code",
   "execution_count": null,
   "id": "4ae287c9-d7ad-4db9-b5e9-9bb95270feda",
   "metadata": {},
   "outputs": [],
   "source": [
    "# Se muestra una pequeña muestra de los datos\n",
    "data.head()"
   ]
  },
  {
   "cell_type": "code",
   "execution_count": null,
   "id": "8d57bb25-67cc-4e4e-8662-46cfca192b14",
   "metadata": {},
   "outputs": [],
   "source": [
    "# Se imprimen los diferentes tipos de las columnas. Todas son numéricas\n",
    "data.dtypes"
   ]
  },
  {
   "cell_type": "code",
   "execution_count": null,
   "id": "1d7b6c14-3779-4af0-8eba-ded5bfd039e4",
   "metadata": {},
   "outputs": [],
   "source": [
    "# Se hace una decripción de los datos\n",
    "data.describe()"
   ]
  },
  {
   "cell_type": "code",
   "execution_count": null,
   "id": "62714e82-15cc-4a12-85ac-5579e0fd05f8",
   "metadata": {},
   "outputs": [],
   "source": [
    "# Se observa que no existen valores nulos en las variables\n",
    "data.isnull().sum()"
   ]
  },
  {
   "cell_type": "markdown",
   "id": "7afd2ecf-20c1-4790-8339-9a18f092376b",
   "metadata": {},
   "source": [
    "### 2. Identificación de variables a utilizar"
   ]
  },
  {
   "cell_type": "code",
   "execution_count": null,
   "id": "247eec18-a4e8-4f5d-a987-e377e0140626",
   "metadata": {
    "tags": []
   },
   "outputs": [],
   "source": [
    "# Se revisa si la variable objetivo está correlacionada con otra variable\n",
    "plt.figure(figsize =(30,30))\n",
    "correlacion = data.corr()\n",
    "sns.heatmap(correlacion, cmap = 'GnBu', annot = True)"
   ]
  },
  {
   "cell_type": "code",
   "execution_count": null,
   "id": "ad77820c-71dd-4310-834d-4f07e1b48b99",
   "metadata": {},
   "outputs": [],
   "source": [
    "# Se diagrama la relación entre cada variable explicativa y la variable objetivo\n",
    "sns.pairplot(data, height=3, y_vars = 'Resultado', x_vars = data.columns[0:4], kind='scatter')\n",
    "sns.pairplot(data, height=3, y_vars = 'Resultado', x_vars = data.columns[4:10], kind='scatter')\n",
    "sns.pairplot(data, height=3, y_vars = 'Resultado', x_vars = data.columns[8:12], kind='scatter')\n",
    "sns.pairplot(data, height=3, y_vars = 'Resultado', x_vars = data.columns[12:16], kind='scatter')\n",
    "sns.pairplot(data, height=3, y_vars = 'Resultado', x_vars = data.columns[16:20], kind='scatter')\n",
    "sns.pairplot(data, height=3, y_vars = 'Resultado', x_vars = data.columns[20:24], kind='scatter')\n",
    "sns.pairplot(data, height=3, y_vars = 'Resultado', x_vars = data.columns[24:28], kind='scatter')\n",
    "sns.pairplot(data, height=3, y_vars = 'Resultado', x_vars = data.columns[28:32], kind='scatter')"
   ]
  },
  {
   "cell_type": "code",
   "execution_count": null,
   "id": "c4ad1092-a49d-45b3-8a3e-9a835acfc486",
   "metadata": {},
   "outputs": [],
   "source": [
    "selected_cols = ['HTS', 'ATS', 'HSI', 'ASI', 'HSO', 'ASO', 'HBS', 'ABS', 'HGS', 'AGS']\n",
    "selected_cols2 = ['HP', 'AP', 'HC', 'AC', 'HOFF', 'AOFF', 'HF', 'AF',\n",
    "                    'HYC', 'AYC', 'HTP', 'ATP', 'HT', 'AT', 'HA', 'AA', 'HDA', 'ADA']"
   ]
  },
  {
   "cell_type": "markdown",
   "id": "5762f523-fb02-4442-9f93-13cf68c3f9aa",
   "metadata": {},
   "source": [
    "### 3. Limpieza y preparación de datos"
   ]
  },
  {
   "cell_type": "code",
   "execution_count": null,
   "id": "db8561a9-ac8c-499b-8f7e-1b7217eb377c",
   "metadata": {},
   "outputs": [],
   "source": [
    "# los pasos de limpieza y preparación se realizan sobre otro archivo\n",
    "df_data = data.copy()[selected_cols]\n",
    "df_data.insert(0, \"Resultado\", data[\"Resultado\"])"
   ]
  },
  {
   "cell_type": "code",
   "execution_count": null,
   "id": "980a3a95-c99d-4581-bf15-430db75b00d6",
   "metadata": {
    "tags": []
   },
   "outputs": [],
   "source": [
    "df_data.head()"
   ]
  },
  {
   "cell_type": "code",
   "execution_count": null,
   "id": "cae7d988-8c67-4852-a766-e992f44c621d",
   "metadata": {},
   "outputs": [],
   "source": [
    "#def convert_possession(value):\n",
    "#    value2 = str(value)  # cast to string\n",
    "#    value3 = value2[:-1] # last four characters\n",
    "#    return int(value3) if len(value3) > 0 else 50\n",
    "\n",
    "#df_data['HP'] = df_data['HP'].apply(convert_possession)\n",
    "#df_data['AP'] = df_data['AP'].apply(convert_possession)"
   ]
  },
  {
   "cell_type": "code",
   "execution_count": null,
   "id": "2b296fea-1db4-4b35-9e80-f4c108092246",
   "metadata": {},
   "outputs": [],
   "source": [
    "#def convert_yellow_cards(value):\n",
    "#    return int(value)\n",
    "\n",
    "#df_data['HYC'] = df_data['HYC'].fillna(0)\n",
    "#df_data['AYC'] = df_data['AYC'].fillna(0)\n",
    "#df_data['HYC'] = df_data['HYC'].apply(convert_yellow_cards)\n",
    "#df_data['AYC'] = df_data['AYC'].apply(convert_yellow_cards)"
   ]
  },
  {
   "cell_type": "code",
   "execution_count": null,
   "id": "46e88344-71d3-41bc-9553-f97e6afc67b7",
   "metadata": {},
   "outputs": [],
   "source": [
    "df_data.head()"
   ]
  },
  {
   "cell_type": "markdown",
   "id": "4cf925cf-f7cc-45b3-9f06-652aa3e0612e",
   "metadata": {},
   "source": [
    "### 4. Modelamiento"
   ]
  },
  {
   "cell_type": "markdown",
   "id": "1585898a-b3d0-424f-a23d-ab5a6f804fec",
   "metadata": {},
   "source": [
    "#### Pipeline 1: solo con selección de variables"
   ]
  },
  {
   "cell_type": "code",
   "execution_count": null,
   "id": "b8c878d6-02cb-40f6-9a29-66807572a231",
   "metadata": {},
   "outputs": [],
   "source": [
    "# Se usa un transformador para seleccionar unicamente las columnas que se quieren usar\n",
    "pre = [('initial',ColumnTransformer([(\"selector\", 'passthrough',selected_cols)])),]\n",
    "# Se declara el modelo\n",
    "model = [('model', LinearRegression())]\n",
    "# Se declara el pipeline\n",
    "pipeline1 = Pipeline(pre+model)"
   ]
  },
  {
   "cell_type": "code",
   "execution_count": null,
   "id": "8a57074e-ac12-4f52-8c91-e4a951b41d98",
   "metadata": {},
   "outputs": [],
   "source": [
    "# Se extraen las variables explicativas y objetivo para entrenar\n",
    "df_datap1 = df_data\n",
    "\n",
    "X = df_datap1.drop('Resultado', axis = 1)\n",
    "Y = df_datap1['Resultado']\n",
    "\n",
    "# Se realiza la división entrenamiento - test. Se deja 20% de los datos para el test.\n",
    "X_train, X_test, Y_train, Y_test = train_test_split( X, Y, test_size=0.2, random_state=0)\n",
    "\n",
    "# Se entrena el modelo\n",
    "pipeline1 = pipeline1.fit(X_train,Y_train)"
   ]
  },
  {
   "cell_type": "code",
   "execution_count": null,
   "id": "373c3aee-245b-467b-9bac-d8e1df678188",
   "metadata": {},
   "outputs": [],
   "source": [
    "# Se visualiza la regresion lineal en cada dimension\n",
    "f, axs = plt.subplots(1, len(selected_cols), sharey=True, figsize = (12,4))\n",
    "\n",
    "for i in range(len(selected_cols)):\n",
    "    pos_col = i\n",
    "    col = selected_cols[pos_col]\n",
    "\n",
    "    # Variable x\n",
    "    x = X_train[col]\n",
    "    # Pendiente\n",
    "    m = pipeline1['model'].coef_[pos_col]\n",
    "    # Interceto\n",
    "    b = pipeline1['model'].intercept_\n",
    "\n",
    "    axs[i].plot(x, Y_train, 'o', alpha = 0.1)\n",
    "    axs[i].plot(x, x*m + b)\n",
    "    axs[i].set_title(col)"
   ]
  },
  {
   "cell_type": "code",
   "execution_count": null,
   "id": "034089fb-89e0-4a7d-80e7-fb88debf5159",
   "metadata": {},
   "outputs": [],
   "source": [
    "# Vale la pena hacer estandarización de los datos para tener coeficientes más comparables en misma escala.\n",
    "importancia = pipeline1['model'].coef_\n",
    "pd.options.display.float_format = '{:.5f}'.format\n",
    "importancia_atributo = pd.DataFrame(data={\"Atributo\": selected_cols,\"Importancia\": importancia})\n",
    "importancia_atributo = importancia_atributo.sort_values(by='Importancia', ascending=False).reset_index(drop=True)\n",
    "importancia_atributo"
   ]
  },
  {
   "cell_type": "code",
   "execution_count": null,
   "id": "f00cd8a2-5a75-4c08-ba77-979d8beb98fb",
   "metadata": {},
   "outputs": [],
   "source": [
    "# Se obtienen las predicciones del modelo sobre el conjunto de entrenamiento.\n",
    "y_pred = pipeline1.predict(X_train)\n",
    "# Se obtienen las métricas a partir de la predicción y la base de evaluación (valores reales).\n",
    "print(\"Estadísticas Pipeline #1 - Datos de entrenamiento\")\n",
    "print(\"RMSE: %.2f\" % np.sqrt(mse(Y_train, y_pred)))\n",
    "print('R²: %.2f' % r2_score(Y_train, y_pred))"
   ]
  },
  {
   "cell_type": "code",
   "execution_count": null,
   "id": "72860620-f760-4ab4-943f-fa0afd36eadb",
   "metadata": {},
   "outputs": [],
   "source": [
    "# Se obtienen las predicciones del modelo sobre el conjunto de test.\n",
    "y_pred = pipeline1.predict(X_test)\n",
    "# Se obtienen las métricas a partir de la predicción y la base de evaluación (valores reales).\n",
    "print(\"Estadísticas Pipeline #1 - Datos de test\")\n",
    "print(\"RMSE: %.2f\" % np.sqrt(mse(Y_test, y_pred)))\n",
    "print('R²: %.2f' % r2_score(Y_test, y_pred))"
   ]
  },
  {
   "cell_type": "code",
   "execution_count": null,
   "id": "f24efe05-9bf4-4a89-8943-6585b30b1d8d",
   "metadata": {},
   "outputs": [],
   "source": [
    "# Se revisa la colinealidad\n",
    "df_temp = df_datap1[selected_cols]\n",
    "plt.figure(figsize =(30,30))\n",
    "correlacion = df_datap1.corr()\n",
    "sns.heatmap(correlacion, cmap = 'GnBu', annot = True)"
   ]
  },
  {
   "cell_type": "code",
   "execution_count": null,
   "id": "ef995dc6-c06f-44c6-b952-75cea9dac977",
   "metadata": {},
   "outputs": [],
   "source": [
    "# Linealidad\n",
    "#Se ven datos relativamente juntos, sin embargo, hay una pequeña cantidad de datos fuera de esta cohesión en las tres variables.\n",
    "sns.pairplot(df_datap1, height=3, aspect = 0.6, y_vars = 'Resultado', x_vars = selected_cols, kind='scatter', plot_kws = {'alpha':0.1})"
   ]
  },
  {
   "cell_type": "code",
   "execution_count": null,
   "id": "5f9ba06e-aff4-47d3-b69d-6618f90a84da",
   "metadata": {},
   "outputs": [],
   "source": [
    "# Nos sirve para revisar si los errores vienen con una distribución teoríca. En este caso, de una distribución normal.\n",
    "X = df_data.drop('Resultado', axis = 1)\n",
    "y = df_data['Resultado']\n",
    "\n",
    "# Calculamos los errores\n",
    "errors = (pipeline1.predict(X) - y).values\n",
    "\n",
    "fig, axes = plt.subplots(1, 2, figsize = (12,4))\n",
    "\n",
    "# Dispersión\n",
    "sns.scatterplot(x = pipeline1.predict(X), y = errors, alpha = 0.1, ax = axes[0])\n",
    "\n",
    "# q-q plot\n",
    "_ = stats.probplot(errors, dist=\"norm\", plot=axes[1])"
   ]
  },
  {
   "cell_type": "code",
   "execution_count": null,
   "id": "fb2b02fe-2b4e-4013-9f16-b7fa1fe73162",
   "metadata": {},
   "outputs": [],
   "source": [
    "# Diagrama de caja\n",
    "# Acá podemos ver los valores atípicos de Life expectancy.\n",
    "# En este caso están los menores a 44.5.\n",
    "fig=plt.figure(figsize=(15,5))\n",
    "ax = sns.boxplot(data= df_datap1[['Resultado']], orient=\"h\")"
   ]
  },
  {
   "cell_type": "markdown",
   "id": "8b0890e0-3619-4bdc-9dc1-2e45eeb17631",
   "metadata": {
    "jp-MarkdownHeadingCollapsed": true,
    "tags": []
   },
   "source": [
    "#### Pipeline 2: Modelo con eliminación de valores atípicos en la variable objetivo y estandarización"
   ]
  },
  {
   "cell_type": "code",
   "execution_count": null,
   "id": "6c48ecfa-b356-4f47-9fca-30e3b8f57ead",
   "metadata": {},
   "outputs": [],
   "source": [
    "# Se eliminan los valores atípicos que indica el diagrama de caja.\n",
    "df_datap2 = df_data\n",
    "#df_datap2 = df_datap2.drop(df_datap2[df_datap2['Resultado'] < -2].index)\n",
    "#df_datap2 = df_datap2.drop(df_datap2[df_datap2['Resultado'] > 2].index)"
   ]
  },
  {
   "cell_type": "code",
   "execution_count": null,
   "id": "60a292ff-0861-4f17-ac47-6ec37d6de064",
   "metadata": {},
   "outputs": [],
   "source": [
    "# Se declara el modelo\n",
    "model2 = [('model2', LinearRegression())]\n",
    "\n",
    "#Pre\n",
    "pre = [('initial',ColumnTransformer([(\"selector\", 'passthrough',selected_cols)])),\n",
    "       ('scaler', StandardScaler()),]\n",
    "\n",
    "# Se declara el pipeline\n",
    "pipeline2 = Pipeline(pre+model2)\n",
    "\n",
    "# Se extraen las variables explicativas y objetivo para entrenar\n",
    "X = df_datap2.drop('Resultado', axis = 1)\n",
    "Y = df_datap2['Resultado']\n",
    "\n",
    "# Se realiza la división entrenamiento - test. Se deja 20% de los datos para el test.\n",
    "X_train, X_test, Y_train, Y_test = train_test_split( X, Y, test_size=0.2, random_state=0)\n",
    "\n",
    "# Se entrena el modelo\n",
    "pipeline2 = pipeline2.fit(X_train,Y_train)"
   ]
  },
  {
   "cell_type": "code",
   "execution_count": null,
   "id": "a894b5a1-175c-47cb-bf6a-253a18eb7cdc",
   "metadata": {},
   "outputs": [],
   "source": [
    "# Se calculan los errores\n",
    "errors = (pipeline2.predict(X_train) - Y_train).values\n",
    "\n",
    "fig, axes = plt.subplots(1, 2, figsize = (12,4))\n",
    "\n",
    "# Dispersión\n",
    "sns.scatterplot(x = pipeline2.predict(X_train), y = errors, alpha = 0.1, ax = axes[0])\n",
    "\n",
    "# q-q plot\n",
    "_ = stats.probplot(errors, dist=\"norm\", plot=axes[1])"
   ]
  },
  {
   "cell_type": "code",
   "execution_count": null,
   "id": "5d51b610-78a6-46dc-8986-e339aba41d7e",
   "metadata": {},
   "outputs": [],
   "source": [
    "# Diagrama de caja\n",
    "# Se ve que los datos ya están eliminados\n",
    "fig=plt.figure(figsize=(15,5))\n",
    "ax = sns.boxplot(data= df_datap2[['Resultado']], orient=\"h\")"
   ]
  },
  {
   "cell_type": "code",
   "execution_count": null,
   "id": "f7cd69ff-34c1-440e-b739-003025482d46",
   "metadata": {},
   "outputs": [],
   "source": [
    "# Se obtienen las predicciones del modelo sobre el conjunto de entrenamiento.\n",
    "y_pred = pipeline2.predict(X_train)\n",
    "# Se obtienen las métricas a partir de la predicción y la base de evaluación (valores reales).\n",
    "print(\"Estadísticas Pipeline #2 - Datos de entrenamiento\")\n",
    "print(\"RMSE: %.2f\" % np.sqrt(mse(Y_train, y_pred)))\n",
    "print('R²: %.2f' % r2_score(Y_train, y_pred))"
   ]
  },
  {
   "cell_type": "code",
   "execution_count": null,
   "id": "9c7d64d0-6587-4919-86a3-2713f0522b4d",
   "metadata": {},
   "outputs": [],
   "source": [
    "# Se obtienen las predicciones del modelo sobre el conjunto de test.\n",
    "y_pred = pipeline2.predict(X_test)\n",
    "# Se obtienen las métricas a partir de la predicción y la base de evaluación (valores reales).\n",
    "print(\"Estadísticas Pipeline #2 - Datos de test\")\n",
    "print(\"RMSE: %.2f\" % np.sqrt(mse(Y_test, y_pred)))\n",
    "print('R²: %.2f' % r2_score(Y_test, y_pred))"
   ]
  },
  {
   "cell_type": "markdown",
   "id": "8fad958e-2819-4517-bc84-5bde9cbeb1e5",
   "metadata": {},
   "source": [
    "### 5. Evaluación cuantitativa"
   ]
  },
  {
   "cell_type": "code",
   "execution_count": null,
   "id": "ab934d03-e5b1-4294-a415-08e067bda3d1",
   "metadata": {},
   "outputs": [],
   "source": [
    "# Se ajusta el modelo para ver el reporte de estadísticas\n",
    "model = sm.OLS(Y, X).fit()\n",
    "# Se muestran las estadísticas del modelo\n",
    "model.summary()"
   ]
  },
  {
   "cell_type": "code",
   "execution_count": null,
   "id": "6507a9ed-6efb-422b-a6db-bf1e91ddc256",
   "metadata": {},
   "outputs": [],
   "source": [
    "# Se guarda el pipeline en el archivo\n",
    "filename = 'model/modelo.joblib' # Ubicación del archivo a entregar\n",
    "dump(pipeline2, filename)"
   ]
  },
  {
   "cell_type": "code",
   "execution_count": null,
   "id": "40ddf24d-f9dd-441f-b040-9039c434ee0e",
   "metadata": {},
   "outputs": [],
   "source": [
    "# Proceso de prueba del cliente\n",
    "df_recent = pd.read_csv(f\"data/{pais}_{liga}/version{version}/proximos_partidos.csv\", sep=',', encoding = 'utf-8', na_values = '-') # Lectura de los datos recientes\n",
    "\n",
    "# Se lee el archivo y carga el modelo\n",
    "pipeline = load(filename)\n",
    "\n",
    "y_predicted = pipeline.predict(df_recent)"
   ]
  },
  {
   "cell_type": "code",
   "execution_count": null,
   "id": "101669b0-7c3a-49f9-b2e6-eb37dddf3d60",
   "metadata": {},
   "outputs": [],
   "source": [
    "for i in y_predicted:\n",
    "    print (\"{:.2f}\".format(i))"
   ]
  },
  {
   "cell_type": "code",
   "execution_count": null,
   "id": "7e6e8990-5476-484f-973f-2afccfa9c987",
   "metadata": {},
   "outputs": [],
   "source": [
    "for i in range(len(y_predicted)):\n",
    "    home_team = df_recent.iloc[i][\"HomeTeam\"]\n",
    "    away_team = df_recent.iloc[i][\"AwayTeam\"]\n",
    "    \n",
    "    print(home_team + \" vs \" + away_team)\n",
    "    print(y_predicted[i])\n",
    "    ganador = home_team if y_predicted[i] >= 0.5 else (away_team if y_predicted[i] <= -0.5 else \"ninguno\")\n",
    "    if ganador == \"ninguno\":\n",
    "            print(\"No hay ganador claro. \" + str(abs(y_predicted[i]))[:4])\n",
    "    else:\n",
    "        print(\"Gana \" + ganador + \" por \" + str(abs(y_predicted[i]))[:4] + \" goles\")\n",
    "    print()"
   ]
  },
  {
   "cell_type": "code",
   "execution_count": null,
   "id": "ee0e4e22-1615-4bf3-bb34-b0c9aecf9df2",
   "metadata": {},
   "outputs": [],
   "source": []
  }
 ],
 "metadata": {
  "kernelspec": {
   "display_name": "Python 3 (ipykernel)",
   "language": "python",
   "name": "python3"
  },
  "language_info": {
   "codemirror_mode": {
    "name": "ipython",
    "version": 3
   },
   "file_extension": ".py",
   "mimetype": "text/x-python",
   "name": "python",
   "nbconvert_exporter": "python",
   "pygments_lexer": "ipython3",
   "version": "3.9.7"
  }
 },
 "nbformat": 4,
 "nbformat_minor": 5
}
