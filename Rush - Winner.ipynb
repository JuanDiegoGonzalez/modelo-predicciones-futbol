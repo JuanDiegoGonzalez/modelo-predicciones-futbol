{
 "cells": [
  {
   "cell_type": "markdown",
   "id": "e18e8c07-69af-4177-bf8e-d9df99481f11",
   "metadata": {},
   "source": [
    "### 0. Importación de librerías y carga de datos"
   ]
  },
  {
   "cell_type": "code",
   "execution_count": 448,
   "id": "9ecb0d89-ed29-4100-8a52-8d7d8b2ff5dc",
   "metadata": {
    "tags": []
   },
   "outputs": [],
   "source": [
    "# Librerías para manejo de datos\n",
    "import pandas as pd\n",
    "import numpy as np\n",
    "import matplotlib.pyplot as plt\n",
    "import seaborn as sns\n",
    "\n",
    "# Composicion de pipelines\n",
    "from sklearn.compose import ColumnTransformer\n",
    "from sklearn.pipeline import Pipeline\n",
    "from sklearn.impute import SimpleImputer\n",
    "from sklearn.preprocessing import PolynomialFeatures\n",
    "from sklearn.preprocessing import MinMaxScaler\n",
    "from sklearn.preprocessing import StandardScaler, PolynomialFeatures\n",
    "\n",
    "# Para realizar la separación del conjunto de aprendizaje en entrenamiento y test.\n",
    "from sklearn.model_selection import train_test_split\n",
    "\n",
    "# Regresion lineal\n",
    "from sklearn.linear_model import LinearRegression\n",
    "\n",
    "# Importar/ Exportar modelos\n",
    "from joblib import dump, load\n",
    "\n",
    "# Metricas\n",
    "from sklearn.metrics import mean_squared_error as mse\n",
    "from sklearn.metrics import r2_score\n",
    "\n",
    "# q-q plots\n",
    "import scipy.stats as stats\n",
    "\n",
    "# Para sacar un reporte estadístico que podemos usar para determinar las importancia de las variables explicativas.\n",
    "import statsmodels.api as sm "
   ]
  },
  {
   "cell_type": "code",
   "execution_count": 449,
   "id": "9f5b8639-301c-49e7-97ba-1db90200db0b",
   "metadata": {},
   "outputs": [],
   "source": [
    "# Se cargan los datos\n",
    "# Ubicación de los datos, deben estar en la misma carpeta que este notebook\n",
    "\n",
    "#pais, liga = \"belgica\", \"jupiler-pro-league\"\n",
    "#pais, liga = \"espana\", \"laliga\"\n",
    "#pais, liga = \"espana\", \"laliga-smartbank\"\n",
    "#pais, liga = \"francia\", \"ligue-1\"\n",
    "#pais, liga = \"francia\", \"ligue-2\"\n",
    "#pais, liga = \"inglaterra\", \"championship\"\n",
    "#pais, liga = \"inglaterra\", \"premier-league\"\n",
    "#pais, liga = \"italia\", \"serie-a\"\n",
    "#pais, liga = \"italia\", \"serie-b\"\n",
    "#pais, liga = \"paises-bajos\", \"eredivisie\"\n",
    "#pais, liga = \"portugal\", \"liga-portugal\"\n",
    "pais, liga = \"turquia\", \"super-lig\"\n",
    "\n",
    "version = 0\n",
    "\n",
    "db_location = f\"data/{pais}_{liga}/version{version}/resultados_anteriores.csv\"\n",
    "\n",
    "# Se leen los datos, estan separados con ','\n",
    "data = pd.read_csv(db_location, sep=',', encoding = 'utf-8', na_values = '-')"
   ]
  },
  {
   "cell_type": "markdown",
   "id": "dd37416f-1e12-4dfb-9eca-52f1e5166005",
   "metadata": {},
   "source": [
    "### 1. Entendimiento de los datos"
   ]
  },
  {
   "cell_type": "code",
   "execution_count": 450,
   "id": "5dbe022a-536d-4e94-a6b6-a8a28bc3dd6f",
   "metadata": {},
   "outputs": [
    {
     "data": {
      "text/plain": [
       "(264, 42)"
      ]
     },
     "execution_count": 450,
     "metadata": {},
     "output_type": "execute_result"
    }
   ],
   "source": [
    "# Se revisa la forma general de los datos cargados\n",
    "data.shape"
   ]
  },
  {
   "cell_type": "code",
   "execution_count": 451,
   "id": "4ae287c9-d7ad-4db9-b5e9-9bb95270feda",
   "metadata": {},
   "outputs": [
    {
     "data": {
      "text/html": [
       "<div>\n",
       "<style scoped>\n",
       "    .dataframe tbody tr th:only-of-type {\n",
       "        vertical-align: middle;\n",
       "    }\n",
       "\n",
       "    .dataframe tbody tr th {\n",
       "        vertical-align: top;\n",
       "    }\n",
       "\n",
       "    .dataframe thead th {\n",
       "        text-align: right;\n",
       "    }\n",
       "</style>\n",
       "<table border=\"1\" class=\"dataframe\">\n",
       "  <thead>\n",
       "    <tr style=\"text-align: right;\">\n",
       "      <th></th>\n",
       "      <th>Date</th>\n",
       "      <th>HomeTeam</th>\n",
       "      <th>AwayTeam</th>\n",
       "      <th>HG</th>\n",
       "      <th>AG</th>\n",
       "      <th>HP</th>\n",
       "      <th>AP</th>\n",
       "      <th>HTS</th>\n",
       "      <th>ATS</th>\n",
       "      <th>HSI</th>\n",
       "      <th>...</th>\n",
       "      <th>ATP</th>\n",
       "      <th>HPC</th>\n",
       "      <th>APC</th>\n",
       "      <th>HT</th>\n",
       "      <th>AT</th>\n",
       "      <th>HA</th>\n",
       "      <th>AA</th>\n",
       "      <th>HDA</th>\n",
       "      <th>ADA</th>\n",
       "      <th>Resultado</th>\n",
       "    </tr>\n",
       "  </thead>\n",
       "  <tbody>\n",
       "    <tr>\n",
       "      <th>0</th>\n",
       "      <td>24.04.2023 12:00</td>\n",
       "      <td>Antalyaspor</td>\n",
       "      <td>Sivasspor</td>\n",
       "      <td>1</td>\n",
       "      <td>2</td>\n",
       "      <td>69%</td>\n",
       "      <td>31%</td>\n",
       "      <td>21</td>\n",
       "      <td>9</td>\n",
       "      <td>7</td>\n",
       "      <td>...</td>\n",
       "      <td>268</td>\n",
       "      <td>440</td>\n",
       "      <td>171</td>\n",
       "      <td>19</td>\n",
       "      <td>23</td>\n",
       "      <td>103</td>\n",
       "      <td>95</td>\n",
       "      <td>82</td>\n",
       "      <td>40</td>\n",
       "      <td>-1</td>\n",
       "    </tr>\n",
       "    <tr>\n",
       "      <th>1</th>\n",
       "      <td>24.04.2023 12:00</td>\n",
       "      <td>Fenerbahçe</td>\n",
       "      <td>Istanbulspor</td>\n",
       "      <td>3</td>\n",
       "      <td>3</td>\n",
       "      <td>73%</td>\n",
       "      <td>27%</td>\n",
       "      <td>15</td>\n",
       "      <td>7</td>\n",
       "      <td>5</td>\n",
       "      <td>...</td>\n",
       "      <td>241</td>\n",
       "      <td>579</td>\n",
       "      <td>163</td>\n",
       "      <td>23</td>\n",
       "      <td>17</td>\n",
       "      <td>131</td>\n",
       "      <td>95</td>\n",
       "      <td>107</td>\n",
       "      <td>49</td>\n",
       "      <td>0</td>\n",
       "    </tr>\n",
       "    <tr>\n",
       "      <th>2</th>\n",
       "      <td>24.04.2023 09:00</td>\n",
       "      <td>Giresunspor</td>\n",
       "      <td>Başakşehir</td>\n",
       "      <td>2</td>\n",
       "      <td>4</td>\n",
       "      <td>52%</td>\n",
       "      <td>48%</td>\n",
       "      <td>25</td>\n",
       "      <td>14</td>\n",
       "      <td>8</td>\n",
       "      <td>...</td>\n",
       "      <td>410</td>\n",
       "      <td>348</td>\n",
       "      <td>334</td>\n",
       "      <td>11</td>\n",
       "      <td>21</td>\n",
       "      <td>141</td>\n",
       "      <td>102</td>\n",
       "      <td>103</td>\n",
       "      <td>38</td>\n",
       "      <td>-2</td>\n",
       "    </tr>\n",
       "    <tr>\n",
       "      <th>3</th>\n",
       "      <td>23.04.2023 11:00</td>\n",
       "      <td>Galatasaray</td>\n",
       "      <td>Karagumruk</td>\n",
       "      <td>3</td>\n",
       "      <td>3</td>\n",
       "      <td>65%</td>\n",
       "      <td>35%</td>\n",
       "      <td>24</td>\n",
       "      <td>7</td>\n",
       "      <td>9</td>\n",
       "      <td>...</td>\n",
       "      <td>311</td>\n",
       "      <td>470</td>\n",
       "      <td>214</td>\n",
       "      <td>11</td>\n",
       "      <td>14</td>\n",
       "      <td>132</td>\n",
       "      <td>70</td>\n",
       "      <td>110</td>\n",
       "      <td>42</td>\n",
       "      <td>0</td>\n",
       "    </tr>\n",
       "    <tr>\n",
       "      <th>4</th>\n",
       "      <td>23.04.2023 08:00</td>\n",
       "      <td>Adana Demirspor</td>\n",
       "      <td>Kayserispor</td>\n",
       "      <td>5</td>\n",
       "      <td>3</td>\n",
       "      <td>39%</td>\n",
       "      <td>61%</td>\n",
       "      <td>16</td>\n",
       "      <td>14</td>\n",
       "      <td>6</td>\n",
       "      <td>...</td>\n",
       "      <td>608</td>\n",
       "      <td>329</td>\n",
       "      <td>553</td>\n",
       "      <td>12</td>\n",
       "      <td>18</td>\n",
       "      <td>77</td>\n",
       "      <td>109</td>\n",
       "      <td>58</td>\n",
       "      <td>64</td>\n",
       "      <td>2</td>\n",
       "    </tr>\n",
       "  </tbody>\n",
       "</table>\n",
       "<p>5 rows × 42 columns</p>\n",
       "</div>"
      ],
      "text/plain": [
       "               Date         HomeTeam      AwayTeam  HG  AG   HP   AP  HTS  \\\n",
       "0  24.04.2023 12:00      Antalyaspor     Sivasspor   1   2  69%  31%   21   \n",
       "1  24.04.2023 12:00       Fenerbahçe  Istanbulspor   3   3  73%  27%   15   \n",
       "2  24.04.2023 09:00      Giresunspor    Başakşehir   2   4  52%  48%   25   \n",
       "3  23.04.2023 11:00      Galatasaray    Karagumruk   3   3  65%  35%   24   \n",
       "4  23.04.2023 08:00  Adana Demirspor   Kayserispor   5   3  39%  61%   16   \n",
       "\n",
       "   ATS  HSI  ...  ATP  HPC  APC  HT  AT   HA   AA  HDA  ADA  Resultado  \n",
       "0    9    7  ...  268  440  171  19  23  103   95   82   40         -1  \n",
       "1    7    5  ...  241  579  163  23  17  131   95  107   49          0  \n",
       "2   14    8  ...  410  348  334  11  21  141  102  103   38         -2  \n",
       "3    7    9  ...  311  470  214  11  14  132   70  110   42          0  \n",
       "4   14    6  ...  608  329  553  12  18   77  109   58   64          2  \n",
       "\n",
       "[5 rows x 42 columns]"
      ]
     },
     "execution_count": 451,
     "metadata": {},
     "output_type": "execute_result"
    }
   ],
   "source": [
    "# Se muestra una pequeña muestra de los datos\n",
    "data.head()"
   ]
  },
  {
   "cell_type": "code",
   "execution_count": 452,
   "id": "8d57bb25-67cc-4e4e-8662-46cfca192b14",
   "metadata": {},
   "outputs": [],
   "source": [
    "# Se imprimen los diferentes tipos de las columnas. Todas son numéricas\n",
    "#data.dtypes"
   ]
  },
  {
   "cell_type": "code",
   "execution_count": 453,
   "id": "1d7b6c14-3779-4af0-8eba-ded5bfd039e4",
   "metadata": {},
   "outputs": [],
   "source": [
    "# Se hace una decripción de los datos\n",
    "#data.describe()"
   ]
  },
  {
   "cell_type": "code",
   "execution_count": 454,
   "id": "62714e82-15cc-4a12-85ac-5579e0fd05f8",
   "metadata": {},
   "outputs": [],
   "source": [
    "# Se observa que no existen valores nulos en las variables\n",
    "#data.isnull().sum()"
   ]
  },
  {
   "cell_type": "markdown",
   "id": "7afd2ecf-20c1-4790-8339-9a18f092376b",
   "metadata": {},
   "source": [
    "### 2. Identificación de variables a utilizar"
   ]
  },
  {
   "cell_type": "code",
   "execution_count": 455,
   "id": "247eec18-a4e8-4f5d-a987-e377e0140626",
   "metadata": {
    "tags": []
   },
   "outputs": [],
   "source": [
    "# Se revisa si la variable objetivo está correlacionada con otra variable\n",
    "#plt.figure(figsize =(30,30))\n",
    "#correlacion = data.corr()\n",
    "#sns.heatmap(correlacion, cmap = 'GnBu', annot = True)"
   ]
  },
  {
   "cell_type": "code",
   "execution_count": 456,
   "id": "ad77820c-71dd-4310-834d-4f07e1b48b99",
   "metadata": {},
   "outputs": [],
   "source": [
    "# Se diagrama la relación entre cada variable explicativa y la variable objetivo\n",
    "#sns.pairplot(data, height=3, y_vars = 'Resultado', x_vars = data.columns[0:4], kind='scatter')\n",
    "#sns.pairplot(data, height=3, y_vars = 'Resultado', x_vars = data.columns[4:10], kind='scatter')\n",
    "#sns.pairplot(data, height=3, y_vars = 'Resultado', x_vars = data.columns[8:12], kind='scatter')\n",
    "#sns.pairplot(data, height=3, y_vars = 'Resultado', x_vars = data.columns[12:16], kind='scatter')\n",
    "#sns.pairplot(data, height=3, y_vars = 'Resultado', x_vars = data.columns[16:20], kind='scatter')\n",
    "#sns.pairplot(data, height=3, y_vars = 'Resultado', x_vars = data.columns[20:24], kind='scatter')\n",
    "#sns.pairplot(data, height=3, y_vars = 'Resultado', x_vars = data.columns[24:28], kind='scatter')\n",
    "#sns.pairplot(data, height=3, y_vars = 'Resultado', x_vars = data.columns[28:32], kind='scatter')"
   ]
  },
  {
   "cell_type": "code",
   "execution_count": 457,
   "id": "c4ad1092-a49d-45b3-8a3e-9a835acfc486",
   "metadata": {},
   "outputs": [],
   "source": [
    "selected_cols = ['HTS', 'ATS', 'HSI', 'ASI', 'HSO', 'ASO', 'HBS', 'ABS', 'HGS', 'AGS']\n",
    "selected_cols2 = ['HP', 'AP', 'HC', 'AC', 'HOFF', 'AOFF', 'HF', 'AF',\n",
    "                    'HYC', 'AYC', 'HTP', 'ATP', 'HT', 'AT', 'HA', 'AA', 'HDA', 'ADA']"
   ]
  },
  {
   "cell_type": "markdown",
   "id": "5762f523-fb02-4442-9f93-13cf68c3f9aa",
   "metadata": {},
   "source": [
    "### 3. Limpieza y preparación de datos"
   ]
  },
  {
   "cell_type": "code",
   "execution_count": 458,
   "id": "db8561a9-ac8c-499b-8f7e-1b7217eb377c",
   "metadata": {},
   "outputs": [],
   "source": [
    "# los pasos de limpieza y preparación se realizan sobre otro archivo\n",
    "df_data = data.copy()[selected_cols]\n",
    "df_data.insert(0, \"Resultado\", data[\"Resultado\"])"
   ]
  },
  {
   "cell_type": "code",
   "execution_count": 459,
   "id": "980a3a95-c99d-4581-bf15-430db75b00d6",
   "metadata": {
    "tags": []
   },
   "outputs": [
    {
     "data": {
      "text/html": [
       "<div>\n",
       "<style scoped>\n",
       "    .dataframe tbody tr th:only-of-type {\n",
       "        vertical-align: middle;\n",
       "    }\n",
       "\n",
       "    .dataframe tbody tr th {\n",
       "        vertical-align: top;\n",
       "    }\n",
       "\n",
       "    .dataframe thead th {\n",
       "        text-align: right;\n",
       "    }\n",
       "</style>\n",
       "<table border=\"1\" class=\"dataframe\">\n",
       "  <thead>\n",
       "    <tr style=\"text-align: right;\">\n",
       "      <th></th>\n",
       "      <th>Resultado</th>\n",
       "      <th>HTS</th>\n",
       "      <th>ATS</th>\n",
       "      <th>HSI</th>\n",
       "      <th>ASI</th>\n",
       "      <th>HSO</th>\n",
       "      <th>ASO</th>\n",
       "      <th>HBS</th>\n",
       "      <th>ABS</th>\n",
       "      <th>HGS</th>\n",
       "      <th>AGS</th>\n",
       "    </tr>\n",
       "  </thead>\n",
       "  <tbody>\n",
       "    <tr>\n",
       "      <th>0</th>\n",
       "      <td>-1</td>\n",
       "      <td>21</td>\n",
       "      <td>9</td>\n",
       "      <td>7</td>\n",
       "      <td>3</td>\n",
       "      <td>11</td>\n",
       "      <td>5</td>\n",
       "      <td>3</td>\n",
       "      <td>1</td>\n",
       "      <td>1</td>\n",
       "      <td>6</td>\n",
       "    </tr>\n",
       "    <tr>\n",
       "      <th>1</th>\n",
       "      <td>0</td>\n",
       "      <td>15</td>\n",
       "      <td>7</td>\n",
       "      <td>5</td>\n",
       "      <td>4</td>\n",
       "      <td>6</td>\n",
       "      <td>2</td>\n",
       "      <td>4</td>\n",
       "      <td>1</td>\n",
       "      <td>1</td>\n",
       "      <td>2</td>\n",
       "    </tr>\n",
       "    <tr>\n",
       "      <th>2</th>\n",
       "      <td>-2</td>\n",
       "      <td>25</td>\n",
       "      <td>14</td>\n",
       "      <td>8</td>\n",
       "      <td>6</td>\n",
       "      <td>12</td>\n",
       "      <td>5</td>\n",
       "      <td>5</td>\n",
       "      <td>3</td>\n",
       "      <td>2</td>\n",
       "      <td>6</td>\n",
       "    </tr>\n",
       "    <tr>\n",
       "      <th>3</th>\n",
       "      <td>0</td>\n",
       "      <td>24</td>\n",
       "      <td>7</td>\n",
       "      <td>9</td>\n",
       "      <td>3</td>\n",
       "      <td>8</td>\n",
       "      <td>2</td>\n",
       "      <td>7</td>\n",
       "      <td>2</td>\n",
       "      <td>0</td>\n",
       "      <td>6</td>\n",
       "    </tr>\n",
       "    <tr>\n",
       "      <th>4</th>\n",
       "      <td>2</td>\n",
       "      <td>16</td>\n",
       "      <td>14</td>\n",
       "      <td>6</td>\n",
       "      <td>3</td>\n",
       "      <td>7</td>\n",
       "      <td>7</td>\n",
       "      <td>3</td>\n",
       "      <td>4</td>\n",
       "      <td>0</td>\n",
       "      <td>1</td>\n",
       "    </tr>\n",
       "  </tbody>\n",
       "</table>\n",
       "</div>"
      ],
      "text/plain": [
       "   Resultado  HTS  ATS  HSI  ASI  HSO  ASO  HBS  ABS  HGS  AGS\n",
       "0         -1   21    9    7    3   11    5    3    1    1    6\n",
       "1          0   15    7    5    4    6    2    4    1    1    2\n",
       "2         -2   25   14    8    6   12    5    5    3    2    6\n",
       "3          0   24    7    9    3    8    2    7    2    0    6\n",
       "4          2   16   14    6    3    7    7    3    4    0    1"
      ]
     },
     "execution_count": 459,
     "metadata": {},
     "output_type": "execute_result"
    }
   ],
   "source": [
    "df_data.head()"
   ]
  },
  {
   "cell_type": "code",
   "execution_count": 460,
   "id": "cae7d988-8c67-4852-a766-e992f44c621d",
   "metadata": {},
   "outputs": [],
   "source": [
    "#def convert_possession(value):\n",
    "#    value2 = str(value)  # cast to string\n",
    "#    value3 = value2[:-1] # last four characters\n",
    "#    return int(value3) if len(value3) > 0 else 50\n",
    "\n",
    "#df_data['HP'] = df_data['HP'].apply(convert_possession)\n",
    "#df_data['AP'] = df_data['AP'].apply(convert_possession)"
   ]
  },
  {
   "cell_type": "code",
   "execution_count": 461,
   "id": "2b296fea-1db4-4b35-9e80-f4c108092246",
   "metadata": {},
   "outputs": [],
   "source": [
    "#def convert_yellow_cards(value):\n",
    "#    return int(value)\n",
    "\n",
    "#df_data['HYC'] = df_data['HYC'].fillna(0)\n",
    "#df_data['AYC'] = df_data['AYC'].fillna(0)\n",
    "#df_data['HYC'] = df_data['HYC'].apply(convert_yellow_cards)\n",
    "#df_data['AYC'] = df_data['AYC'].apply(convert_yellow_cards)"
   ]
  },
  {
   "cell_type": "code",
   "execution_count": 462,
   "id": "46e88344-71d3-41bc-9553-f97e6afc67b7",
   "metadata": {},
   "outputs": [
    {
     "data": {
      "text/html": [
       "<div>\n",
       "<style scoped>\n",
       "    .dataframe tbody tr th:only-of-type {\n",
       "        vertical-align: middle;\n",
       "    }\n",
       "\n",
       "    .dataframe tbody tr th {\n",
       "        vertical-align: top;\n",
       "    }\n",
       "\n",
       "    .dataframe thead th {\n",
       "        text-align: right;\n",
       "    }\n",
       "</style>\n",
       "<table border=\"1\" class=\"dataframe\">\n",
       "  <thead>\n",
       "    <tr style=\"text-align: right;\">\n",
       "      <th></th>\n",
       "      <th>Resultado</th>\n",
       "      <th>HTS</th>\n",
       "      <th>ATS</th>\n",
       "      <th>HSI</th>\n",
       "      <th>ASI</th>\n",
       "      <th>HSO</th>\n",
       "      <th>ASO</th>\n",
       "      <th>HBS</th>\n",
       "      <th>ABS</th>\n",
       "      <th>HGS</th>\n",
       "      <th>AGS</th>\n",
       "    </tr>\n",
       "  </thead>\n",
       "  <tbody>\n",
       "    <tr>\n",
       "      <th>0</th>\n",
       "      <td>-1</td>\n",
       "      <td>21</td>\n",
       "      <td>9</td>\n",
       "      <td>7</td>\n",
       "      <td>3</td>\n",
       "      <td>11</td>\n",
       "      <td>5</td>\n",
       "      <td>3</td>\n",
       "      <td>1</td>\n",
       "      <td>1</td>\n",
       "      <td>6</td>\n",
       "    </tr>\n",
       "    <tr>\n",
       "      <th>1</th>\n",
       "      <td>0</td>\n",
       "      <td>15</td>\n",
       "      <td>7</td>\n",
       "      <td>5</td>\n",
       "      <td>4</td>\n",
       "      <td>6</td>\n",
       "      <td>2</td>\n",
       "      <td>4</td>\n",
       "      <td>1</td>\n",
       "      <td>1</td>\n",
       "      <td>2</td>\n",
       "    </tr>\n",
       "    <tr>\n",
       "      <th>2</th>\n",
       "      <td>-2</td>\n",
       "      <td>25</td>\n",
       "      <td>14</td>\n",
       "      <td>8</td>\n",
       "      <td>6</td>\n",
       "      <td>12</td>\n",
       "      <td>5</td>\n",
       "      <td>5</td>\n",
       "      <td>3</td>\n",
       "      <td>2</td>\n",
       "      <td>6</td>\n",
       "    </tr>\n",
       "    <tr>\n",
       "      <th>3</th>\n",
       "      <td>0</td>\n",
       "      <td>24</td>\n",
       "      <td>7</td>\n",
       "      <td>9</td>\n",
       "      <td>3</td>\n",
       "      <td>8</td>\n",
       "      <td>2</td>\n",
       "      <td>7</td>\n",
       "      <td>2</td>\n",
       "      <td>0</td>\n",
       "      <td>6</td>\n",
       "    </tr>\n",
       "    <tr>\n",
       "      <th>4</th>\n",
       "      <td>2</td>\n",
       "      <td>16</td>\n",
       "      <td>14</td>\n",
       "      <td>6</td>\n",
       "      <td>3</td>\n",
       "      <td>7</td>\n",
       "      <td>7</td>\n",
       "      <td>3</td>\n",
       "      <td>4</td>\n",
       "      <td>0</td>\n",
       "      <td>1</td>\n",
       "    </tr>\n",
       "  </tbody>\n",
       "</table>\n",
       "</div>"
      ],
      "text/plain": [
       "   Resultado  HTS  ATS  HSI  ASI  HSO  ASO  HBS  ABS  HGS  AGS\n",
       "0         -1   21    9    7    3   11    5    3    1    1    6\n",
       "1          0   15    7    5    4    6    2    4    1    1    2\n",
       "2         -2   25   14    8    6   12    5    5    3    2    6\n",
       "3          0   24    7    9    3    8    2    7    2    0    6\n",
       "4          2   16   14    6    3    7    7    3    4    0    1"
      ]
     },
     "execution_count": 462,
     "metadata": {},
     "output_type": "execute_result"
    }
   ],
   "source": [
    "df_data.head()"
   ]
  },
  {
   "cell_type": "markdown",
   "id": "4cf925cf-f7cc-45b3-9f06-652aa3e0612e",
   "metadata": {},
   "source": [
    "### 4. Modelamiento"
   ]
  },
  {
   "cell_type": "markdown",
   "id": "1585898a-b3d0-424f-a23d-ab5a6f804fec",
   "metadata": {},
   "source": [
    "#### Pipeline 1: solo con selección de variables"
   ]
  },
  {
   "cell_type": "code",
   "execution_count": 463,
   "id": "b8c878d6-02cb-40f6-9a29-66807572a231",
   "metadata": {},
   "outputs": [],
   "source": [
    "# Se usa un transformador para seleccionar unicamente las columnas que se quieren usar\n",
    "pre = [('initial',ColumnTransformer([(\"selector\", 'passthrough',selected_cols)])),]\n",
    "# Se declara el modelo\n",
    "model = [('model', LinearRegression())]\n",
    "# Se declara el pipeline\n",
    "pipeline1 = Pipeline(pre+model)"
   ]
  },
  {
   "cell_type": "code",
   "execution_count": 464,
   "id": "8a57074e-ac12-4f52-8c91-e4a951b41d98",
   "metadata": {},
   "outputs": [],
   "source": [
    "# Se extraen las variables explicativas y objetivo para entrenar\n",
    "df_datap1 = df_data\n",
    "\n",
    "X = df_datap1.drop('Resultado', axis = 1)\n",
    "Y = df_datap1['Resultado']\n",
    "\n",
    "# Se realiza la división entrenamiento - test. Se deja 20% de los datos para el test.\n",
    "X_train, X_test, Y_train, Y_test = train_test_split( X, Y, test_size=0.2, random_state=0)\n",
    "\n",
    "# Se entrena el modelo\n",
    "pipeline1 = pipeline1.fit(X_train,Y_train)"
   ]
  },
  {
   "cell_type": "code",
   "execution_count": 465,
   "id": "373c3aee-245b-467b-9bac-d8e1df678188",
   "metadata": {},
   "outputs": [
    {
     "data": {
      "image/png": "[encoded data removed]",
      "text/plain": [
       "<Figure size 1200x400 with 10 Axes>"
      ]
     },
     "metadata": {},
     "output_type": "display_data"
    }
   ],
   "source": [
    "# Se visualiza la regresion lineal en cada dimension\n",
    "f, axs = plt.subplots(1, len(selected_cols), sharey=True, figsize = (12,4))\n",
    "\n",
    "for i in range(len(selected_cols)):\n",
    "    pos_col = i\n",
    "    col = selected_cols[pos_col]\n",
    "\n",
    "    # Variable x\n",
    "    x = X_train[col]\n",
    "    # Pendiente\n",
    "    m = pipeline1['model'].coef_[pos_col]\n",
    "    # Interceto\n",
    "    b = pipeline1['model'].intercept_\n",
    "\n",
    "    axs[i].plot(x, Y_train, 'o', alpha = 0.1)\n",
    "    axs[i].plot(x, x*m + b)\n",
    "    axs[i].set_title(col)"
   ]
  },
  {
   "cell_type": "code",
   "execution_count": 466,
   "id": "034089fb-89e0-4a7d-80e7-fb88debf5159",
   "metadata": {},
   "outputs": [
    {
     "data": {
      "text/html": [
       "<div>\n",
       "<style scoped>\n",
       "    .dataframe tbody tr th:only-of-type {\n",
       "        vertical-align: middle;\n",
       "    }\n",
       "\n",
       "    .dataframe tbody tr th {\n",
       "        vertical-align: top;\n",
       "    }\n",
       "\n",
       "    .dataframe thead th {\n",
       "        text-align: right;\n",
       "    }\n",
       "</style>\n",
       "<table border=\"1\" class=\"dataframe\">\n",
       "  <thead>\n",
       "    <tr style=\"text-align: right;\">\n",
       "      <th></th>\n",
       "      <th>Atributo</th>\n",
       "      <th>Importancia</th>\n",
       "    </tr>\n",
       "  </thead>\n",
       "  <tbody>\n",
       "    <tr>\n",
       "      <th>0</th>\n",
       "      <td>HGS</td>\n",
       "      <td>1.00000</td>\n",
       "    </tr>\n",
       "    <tr>\n",
       "      <th>1</th>\n",
       "      <td>HSI</td>\n",
       "      <td>0.75000</td>\n",
       "    </tr>\n",
       "    <tr>\n",
       "      <th>2</th>\n",
       "      <td>HTS</td>\n",
       "      <td>0.25000</td>\n",
       "    </tr>\n",
       "    <tr>\n",
       "      <th>3</th>\n",
       "      <td>ASO</td>\n",
       "      <td>0.25000</td>\n",
       "    </tr>\n",
       "    <tr>\n",
       "      <th>4</th>\n",
       "      <td>ABS</td>\n",
       "      <td>0.25000</td>\n",
       "    </tr>\n",
       "    <tr>\n",
       "      <th>5</th>\n",
       "      <td>ATS</td>\n",
       "      <td>-0.25000</td>\n",
       "    </tr>\n",
       "    <tr>\n",
       "      <th>6</th>\n",
       "      <td>HSO</td>\n",
       "      <td>-0.25000</td>\n",
       "    </tr>\n",
       "    <tr>\n",
       "      <th>7</th>\n",
       "      <td>HBS</td>\n",
       "      <td>-0.25000</td>\n",
       "    </tr>\n",
       "    <tr>\n",
       "      <th>8</th>\n",
       "      <td>ASI</td>\n",
       "      <td>-0.75000</td>\n",
       "    </tr>\n",
       "    <tr>\n",
       "      <th>9</th>\n",
       "      <td>AGS</td>\n",
       "      <td>-1.00000</td>\n",
       "    </tr>\n",
       "  </tbody>\n",
       "</table>\n",
       "</div>"
      ],
      "text/plain": [
       "  Atributo  Importancia\n",
       "0      HGS      1.00000\n",
       "1      HSI      0.75000\n",
       "2      HTS      0.25000\n",
       "3      ASO      0.25000\n",
       "4      ABS      0.25000\n",
       "5      ATS     -0.25000\n",
       "6      HSO     -0.25000\n",
       "7      HBS     -0.25000\n",
       "8      ASI     -0.75000\n",
       "9      AGS     -1.00000"
      ]
     },
     "execution_count": 466,
     "metadata": {},
     "output_type": "execute_result"
    }
   ],
   "source": [
    "# Vale la pena hacer estandarización de los datos para tener coeficientes más comparables en misma escala.\n",
    "importancia = pipeline1['model'].coef_\n",
    "pd.options.display.float_format = '{:.5f}'.format\n",
    "importancia_atributo = pd.DataFrame(data={\"Atributo\": selected_cols,\"Importancia\": importancia})\n",
    "importancia_atributo = importancia_atributo.sort_values(by='Importancia', ascending=False).reset_index(drop=True)\n",
    "importancia_atributo"
   ]
  },
  {
   "cell_type": "code",
   "execution_count": 467,
   "id": "f00cd8a2-5a75-4c08-ba77-979d8beb98fb",
   "metadata": {},
   "outputs": [
    {
     "name": "stdout",
     "output_type": "stream",
     "text": [
      "Estadísticas Pipeline #1 - Datos de entrenamiento\n",
      "RMSE: 0.00\n",
      "R²: 1.00\n"
     ]
    }
   ],
   "source": [
    "# Se obtienen las predicciones del modelo sobre el conjunto de entrenamiento.\n",
    "y_pred = pipeline1.predict(X_train)\n",
    "# Se obtienen las métricas a partir de la predicción y la base de evaluación (valores reales).\n",
    "print(\"Estadísticas Pipeline #1 - Datos de entrenamiento\")\n",
    "print(\"RMSE: %.2f\" % np.sqrt(mse(Y_train, y_pred)))\n",
    "print('R²: %.2f' % r2_score(Y_train, y_pred))"
   ]
  },
  {
   "cell_type": "code",
   "execution_count": 468,
   "id": "72860620-f760-4ab4-943f-fa0afd36eadb",
   "metadata": {},
   "outputs": [
    {
     "name": "stdout",
     "output_type": "stream",
     "text": [
      "Estadísticas Pipeline #1 - Datos de test\n",
      "RMSE: 0.14\n",
      "R²: 0.99\n"
     ]
    }
   ],
   "source": [
    "# Se obtienen las predicciones del modelo sobre el conjunto de test.\n",
    "y_pred = pipeline1.predict(X_test)\n",
    "# Se obtienen las métricas a partir de la predicción y la base de evaluación (valores reales).\n",
    "print(\"Estadísticas Pipeline #1 - Datos de test\")\n",
    "print(\"RMSE: %.2f\" % np.sqrt(mse(Y_test, y_pred)))\n",
    "print('R²: %.2f' % r2_score(Y_test, y_pred))"
   ]
  },
  {
   "cell_type": "code",
   "execution_count": 469,
   "id": "f24efe05-9bf4-4a89-8943-6585b30b1d8d",
   "metadata": {},
   "outputs": [],
   "source": [
    "# Se revisa la colinealidad\n",
    "#df_temp = df_datap1[selected_cols]\n",
    "#plt.figure(figsize =(30,30))\n",
    "#correlacion = df_datap1.corr()\n",
    "#sns.heatmap(correlacion, cmap = 'GnBu', annot = True)"
   ]
  },
  {
   "cell_type": "code",
   "execution_count": 470,
   "id": "ef995dc6-c06f-44c6-b952-75cea9dac977",
   "metadata": {},
   "outputs": [],
   "source": [
    "# Linealidad\n",
    "#Se ven datos relativamente juntos, sin embargo, hay una pequeña cantidad de datos fuera de esta cohesión en las tres variables.\n",
    "#sns.pairplot(df_datap1, height=3, aspect = 0.6, y_vars = 'Resultado', x_vars = selected_cols, kind='scatter', plot_kws = {'alpha':0.1})"
   ]
  },
  {
   "cell_type": "code",
   "execution_count": 471,
   "id": "5f9ba06e-aff4-47d3-b69d-6618f90a84da",
   "metadata": {},
   "outputs": [],
   "source": [
    "# Nos sirve para revisar si los errores vienen con una distribución teoríca. En este caso, de una distribución normal.\n",
    "X = df_data.drop('Resultado', axis = 1)\n",
    "y = df_data['Resultado']\n",
    "\n",
    "# Calculamos los errores\n",
    "#errors = (pipeline1.predict(X) - y).values\n",
    "\n",
    "#fig, axes = plt.subplots(1, 2, figsize = (12,4))\n",
    "\n",
    "# Dispersión\n",
    "#sns.scatterplot(x = pipeline1.predict(X), y = errors, alpha = 0.1, ax = axes[0])\n",
    "\n",
    "# q-q plot\n",
    "#_ = stats.probplot(errors, dist=\"norm\", plot=axes[1])"
   ]
  },
  {
   "cell_type": "code",
   "execution_count": 472,
   "id": "fb2b02fe-2b4e-4013-9f16-b7fa1fe73162",
   "metadata": {},
   "outputs": [],
   "source": [
    "# Diagrama de caja\n",
    "# Acá podemos ver los valores atípicos de Life expectancy.\n",
    "# En este caso están los menores a 44.5.\n",
    "#fig=plt.figure(figsize=(15,5))\n",
    "#ax = sns.boxplot(data= df_datap1[['Resultado']], orient=\"h\")"
   ]
  },
  {
   "cell_type": "markdown",
   "id": "8b0890e0-3619-4bdc-9dc1-2e45eeb17631",
   "metadata": {
    "tags": []
   },
   "source": [
    "#### Pipeline 2: Modelo con eliminación de valores atípicos en la variable objetivo y estandarización"
   ]
  },
  {
   "cell_type": "code",
   "execution_count": 473,
   "id": "6c48ecfa-b356-4f47-9fca-30e3b8f57ead",
   "metadata": {},
   "outputs": [],
   "source": [
    "# Se eliminan los valores atípicos que indica el diagrama de caja.\n",
    "df_datap2 = df_data\n",
    "#df_datap2 = df_datap2.drop(df_datap2[df_datap2['Resultado'] <= -2].index)\n",
    "#df_datap2 = df_datap2.drop(df_datap2[df_datap2['Resultado'] > 2].index)"
   ]
  },
  {
   "cell_type": "code",
   "execution_count": 474,
   "id": "60a292ff-0861-4f17-ac47-6ec37d6de064",
   "metadata": {},
   "outputs": [],
   "source": [
    "# Se declara el modelo\n",
    "model2 = [('model2', LinearRegression())]\n",
    "\n",
    "#Pre\n",
    "pre = [('initial',ColumnTransformer([(\"selector\", 'passthrough',selected_cols)])),\n",
    "       ('scaler', StandardScaler()),]\n",
    "\n",
    "# Se declara el pipeline\n",
    "pipeline2 = Pipeline(pre+model2)\n",
    "\n",
    "# Se extraen las variables explicativas y objetivo para entrenar\n",
    "X = df_datap2.drop('Resultado', axis = 1)\n",
    "Y = df_datap2['Resultado']\n",
    "\n",
    "# Se realiza la división entrenamiento - test. Se deja 20% de los datos para el test.\n",
    "X_train, X_test, Y_train, Y_test = train_test_split( X, Y, test_size=0.2, random_state=0)\n",
    "\n",
    "# Se entrena el modelo\n",
    "pipeline2 = pipeline2.fit(X_train,Y_train)"
   ]
  },
  {
   "cell_type": "code",
   "execution_count": 475,
   "id": "a894b5a1-175c-47cb-bf6a-253a18eb7cdc",
   "metadata": {},
   "outputs": [],
   "source": [
    "# Se calculan los errores\n",
    "#errors = (pipeline2.predict(X_train) - Y_train).values\n",
    "\n",
    "#fig, axes = plt.subplots(1, 2, figsize = (12,4))\n",
    "\n",
    "# Dispersión\n",
    "#sns.scatterplot(x = pipeline2.predict(X_train), y = errors, alpha = 0.1, ax = axes[0])\n",
    "\n",
    "# q-q plot\n",
    "#_ = stats.probplot(errors, dist=\"norm\", plot=axes[1])"
   ]
  },
  {
   "cell_type": "code",
   "execution_count": 476,
   "id": "5d51b610-78a6-46dc-8986-e339aba41d7e",
   "metadata": {},
   "outputs": [],
   "source": [
    "# Diagrama de caja\n",
    "# Se ve que los datos ya están eliminados\n",
    "#fig=plt.figure(figsize=(15,5))\n",
    "#ax = sns.boxplot(data= df_datap2[['Resultado']], orient=\"h\")"
   ]
  },
  {
   "cell_type": "code",
   "execution_count": 477,
   "id": "f7cd69ff-34c1-440e-b739-003025482d46",
   "metadata": {},
   "outputs": [
    {
     "name": "stdout",
     "output_type": "stream",
     "text": [
      "Estadísticas Pipeline #2 - Datos de entrenamiento\n",
      "RMSE: 0.00\n",
      "R²: 1.00\n"
     ]
    }
   ],
   "source": [
    "# Se obtienen las predicciones del modelo sobre el conjunto de entrenamiento.\n",
    "y_pred = pipeline2.predict(X_train)\n",
    "# Se obtienen las métricas a partir de la predicción y la base de evaluación (valores reales).\n",
    "print(\"Estadísticas Pipeline #2 - Datos de entrenamiento\")\n",
    "print(\"RMSE: %.2f\" % np.sqrt(mse(Y_train, y_pred)))\n",
    "print('R²: %.2f' % r2_score(Y_train, y_pred))"
   ]
  },
  {
   "cell_type": "code",
   "execution_count": 478,
   "id": "9c7d64d0-6587-4919-86a3-2713f0522b4d",
   "metadata": {},
   "outputs": [
    {
     "name": "stdout",
     "output_type": "stream",
     "text": [
      "Estadísticas Pipeline #2 - Datos de test\n",
      "RMSE: 0.14\n",
      "R²: 0.99\n"
     ]
    }
   ],
   "source": [
    "# Se obtienen las predicciones del modelo sobre el conjunto de test.\n",
    "y_pred = pipeline2.predict(X_test)\n",
    "# Se obtienen las métricas a partir de la predicción y la base de evaluación (valores reales).\n",
    "print(\"Estadísticas Pipeline #2 - Datos de test\")\n",
    "print(\"RMSE: %.2f\" % np.sqrt(mse(Y_test, y_pred)))\n",
    "print('R²: %.2f' % r2_score(Y_test, y_pred))"
   ]
  },
  {
   "cell_type": "markdown",
   "id": "8fad958e-2819-4517-bc84-5bde9cbeb1e5",
   "metadata": {},
   "source": [
    "### 5. Evaluación cuantitativa"
   ]
  },
  {
   "cell_type": "code",
   "execution_count": 479,
   "id": "ab934d03-e5b1-4294-a415-08e067bda3d1",
   "metadata": {},
   "outputs": [],
   "source": [
    "# Se ajusta el modelo para ver el reporte de estadísticas\n",
    "#model = sm.OLS(Y, X).fit()\n",
    "# Se muestran las estadísticas del modelo\n",
    "#model.summary()"
   ]
  },
  {
   "cell_type": "code",
   "execution_count": 480,
   "id": "6507a9ed-6efb-422b-a6db-bf1e91ddc256",
   "metadata": {},
   "outputs": [
    {
     "data": {
      "text/plain": [
       "['model/modelo.joblib']"
      ]
     },
     "execution_count": 480,
     "metadata": {},
     "output_type": "execute_result"
    }
   ],
   "source": [
    "# Se guarda el pipeline en el archivo\n",
    "filename = 'model/modelo.joblib' # Ubicación del archivo a entregar\n",
    "dump(pipeline2, filename)"
   ]
  },
  {
   "cell_type": "code",
   "execution_count": 481,
   "id": "40ddf24d-f9dd-441f-b040-9039c434ee0e",
   "metadata": {},
   "outputs": [],
   "source": [
    "# Proceso de prueba del cliente\n",
    "df_recent = pd.read_csv(f\"data/{pais}_{liga}/version{version}/proximos_partidos.csv\", sep=',', encoding = 'utf-8', na_values = '-') # Lectura de los datos recientes\n",
    "\n",
    "# Se lee el archivo y carga el modelo\n",
    "pipeline = load(filename)\n",
    "\n",
    "y_predicted = pipeline.predict(df_recent)"
   ]
  },
  {
   "cell_type": "code",
   "execution_count": 482,
   "id": "101669b0-7c3a-49f9-b2e6-eb37dddf3d60",
   "metadata": {},
   "outputs": [
    {
     "name": "stdout",
     "output_type": "stream",
     "text": [
      "-1,29\n",
      "2,71\n",
      "-0,62\n",
      "-0,35\n",
      "0,43\n",
      "-1,88\n",
      "0,05\n",
      "2,34\n",
      "2,73\n",
      "-0,91\n",
      "-0,47\n",
      "0,57\n",
      "3,07\n",
      "0,38\n",
      "0,65\n",
      "0,04\n",
      "-3,59\n",
      "-2,00\n",
      "0,93\n",
      "-0,65\n",
      "1,45\n",
      "0,54\n",
      "1,67\n",
      "-0,14\n",
      "-0,93\n",
      "3,69\n",
      "1,87\n",
      "1,31\n",
      "0,65\n"
     ]
    }
   ],
   "source": [
    "for i in y_predicted[:29]:\n",
    "    print (\"{:.2f}\".format(i).replace('.', ','))"
   ]
  },
  {
   "cell_type": "code",
   "execution_count": 483,
   "id": "7e6e8990-5476-484f-973f-2afccfa9c987",
   "metadata": {},
   "outputs": [
    {
     "name": "stdout",
     "output_type": "stream",
     "text": [
      "Alanyaspor vs Umraniyespor\n",
      "-1.2857142857142883\n",
      "Gana Umraniyespor por 1.28 goles\n",
      "\n",
      "Karagumruk vs Antalyaspor\n",
      "2.7142857142857153\n",
      "Gana Karagumruk por 2.71 goles\n",
      "\n",
      "Konyaspor vs Trabzonspor\n",
      "-0.6153846153846148\n",
      "Gana Trabzonspor por 0.61 goles\n",
      "\n",
      "Ankaragucu vs Kasimpasa\n",
      "-0.34615384615384853\n",
      "No hay ganador claro. 0.34\n",
      "\n",
      "Sivasspor vs Fenerbahçe\n",
      "0.4285714285714319\n",
      "No hay ganador claro. 0.42\n",
      "\n",
      "Beşiktaş vs Galatasaray\n",
      "-1.8791208791208733\n",
      "Gana Galatasaray por 1.87 goles\n",
      "\n",
      "Istanbulspor vs Giresunspor\n",
      "0.047619047619045285\n",
      "No hay ganador claro. 0.04\n",
      "\n",
      "Adana Demirspor vs Alanyaspor\n",
      "2.3351648351648366\n",
      "Gana Adana Demirspor por 2.33 goles\n",
      "\n",
      "Antalyaspor vs Beşiktaş\n",
      "2.7333333333333347\n",
      "Gana Antalyaspor por 2.73 goles\n",
      "\n",
      "Umraniyespor vs Sivasspor\n",
      "-0.9095238095238121\n",
      "Gana Sivasspor por 0.90 goles\n",
      "\n",
      "Konyaspor vs Kayserispor\n",
      "-0.46666666666666906\n",
      "No hay ganador claro. 0.46\n",
      "\n",
      "Giresunspor vs Fenerbahçe\n",
      "0.5714285714285745\n",
      "Gana Giresunspor por 0.57 goles\n",
      "\n",
      "Galatasaray vs Başakşehir\n",
      "3.06666666666667\n",
      "Gana Galatasaray por 3.06 goles\n",
      "\n",
      "Trabzonspor vs Ankaragucu\n",
      "0.3809523809523809\n",
      "No hay ganador claro. 0.38\n",
      "\n",
      "Sivasspor vs Kasimpasa\n",
      "0.6538461538461524\n",
      "Gana Sivasspor por 0.65 goles\n",
      "\n",
      "Alanyaspor vs Konyaspor\n",
      "0.038461538461537825\n",
      "No hay ganador claro. 0.03\n",
      "\n",
      "Istanbulspor vs Galatasaray\n",
      "-3.593406593406592\n",
      "Gana Galatasaray por 3.59 goles\n",
      "\n",
      "Başakşehir vs Umraniyespor\n",
      "-2.000000000000001\n",
      "Gana Umraniyespor por 2.00 goles\n",
      "\n",
      "Ankaragucu vs Antalyaspor\n",
      "0.9285714285714286\n",
      "Gana Ankaragucu por 0.92 goles\n",
      "\n",
      "Karagumruk vs Adana Demirspor\n",
      "-0.6476190476190462\n",
      "Gana Adana Demirspor por 0.64 goles\n",
      "\n",
      "Fenerbahçe vs Trabzonspor\n",
      "1.4512820512820548\n",
      "Gana Fenerbahçe por 1.45 goles\n",
      "\n",
      "Kasimpasa vs Istanbulspor\n",
      "0.5416666666666665\n",
      "Gana Kasimpasa por 0.54 goles\n",
      "\n",
      "Galatasaray vs Sivasspor\n",
      "1.666666666666668\n",
      "Gana Galatasaray por 1.66 goles\n",
      "\n",
      "Kayserispor vs Alanyaspor\n",
      "-0.1428571428571428\n",
      "No hay ganador claro. 0.14\n",
      "\n",
      "Umraniyespor vs Ankaragucu\n",
      "-0.9285714285714315\n",
      "Gana Ankaragucu por 0.92 goles\n",
      "\n",
      "Adana Demirspor vs Beşiktaş\n",
      "3.6923076923076956\n",
      "Gana Adana Demirspor por 3.69 goles\n",
      "\n",
      "Antalyaspor vs Başakşehir\n",
      "1.8666666666666676\n",
      "Gana Antalyaspor por 1.86 goles\n",
      "\n",
      "Trabzonspor vs Karagumruk\n",
      "1.3095238095238113\n",
      "Gana Trabzonspor por 1.30 goles\n",
      "\n",
      "Alanyaspor vs Kasimpasa\n",
      "0.6538461538461504\n",
      "Gana Alanyaspor por 0.65 goles\n",
      "\n"
     ]
    }
   ],
   "source": [
    "for i in range(len(y_predicted[:29])):\n",
    "    home_team = df_recent.iloc[i][\"HomeTeam\"]\n",
    "    away_team = df_recent.iloc[i][\"AwayTeam\"]\n",
    "    \n",
    "    print(home_team + \" vs \" + away_team)\n",
    "    print(y_predicted[i])\n",
    "    ganador = home_team if y_predicted[i] >= 0.5 else (away_team if y_predicted[i] <= -0.5 else \"ninguno\")\n",
    "    if ganador == \"ninguno\":\n",
    "            print(\"No hay ganador claro. \" + str(abs(y_predicted[i]))[:4])\n",
    "    else:\n",
    "        print(\"Gana \" + ganador + \" por \" + str(abs(y_predicted[i]))[:4] + \" goles\")\n",
    "    print()"
   ]
  },
  {
   "cell_type": "code",
   "execution_count": null,
   "id": "ee0e4e22-1615-4bf3-bb34-b0c9aecf9df2",
   "metadata": {},
   "outputs": [],
   "source": []
  }
 ],
 "metadata": {
  "kernelspec": {
   "display_name": "Python 3 (ipykernel)",
   "language": "python",
   "name": "python3"
  },
  "language_info": {
   "codemirror_mode": {
    "name": "ipython",
    "version": 3
   },
   "file_extension": ".py",
   "mimetype": "text/x-python",
   "name": "python",
   "nbconvert_exporter": "python",
   "pygments_lexer": "ipython3",
   "version": "3.10.2"
  }
 },
 "nbformat": 4,
 "nbformat_minor": 5
}
