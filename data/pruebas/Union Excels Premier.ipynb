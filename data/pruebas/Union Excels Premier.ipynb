{
 "cells": [
  {
   "cell_type": "code",
   "execution_count": 30,
   "id": "e2520b58-7f7e-4e7a-b0e2-a54e73686329",
   "metadata": {},
   "outputs": [],
   "source": [
    "import warnings\n",
    "warnings.filterwarnings('ignore')\n",
    "import pandas as pd\n",
    "import numpy as np\n",
    "import matplotlib.pyplot as plt\n",
    "import datetime\n",
    "import seaborn as sns; sns.set()  # for plot styling"
   ]
  },
  {
   "cell_type": "markdown",
   "id": "119b663d-4168-443c-92c1-75b5c0465ed4",
   "metadata": {},
   "source": [
    "# Liga Premier"
   ]
  },
  {
   "cell_type": "code",
   "execution_count": 31,
   "id": "b4721597-a29b-444c-adae-14fa46cca386",
   "metadata": {},
   "outputs": [],
   "source": [
    "excel1= pd.read_excel(\"data_fbref_Premier_League_80_partidos_Arsenal-Everton-Marzo-1-2023-Premier-League.xlsx\",sheet_name=None)\n",
    "excel2= pd.read_excel(\"data_fbref_Premier_League.xlsx\",sheet_name=None)\n",
    "excel3= pd.read_excel(\"data_fbref_Premier_League_60_partidos_Newcastle-United-Leeds-United-Diciembre-31-2022-Premier-League.xlsx\",sheet_name=None)\n",
    "excel4= pd.read_excel(\"data_fbref_Premier_League_60_partidos_Merseyside-Derby-Liverpool-Everton-Febrero-13-2023-Premier-League.xlsx\",sheet_name=None)\n",
    "excel5= pd.read_excel(\"data_fbref_Premier_League_40_partidos_Chelsea-Fulham-Febrero-3-2023-Premier-League.xlsx\",sheet_name=None)\n",
    "excel6= pd.read_excel(\"data_fbref_Premier_League_40_partidos_Bournemouth-Everton-Noviembre-12-2022-Premier-League.xlsx\",sheet_name=None)\n",
    "excel7= pd.read_excel(\"data_fbref_Premier_League_4_partidos_Nottingham-Forest-Arsenal-Mayo-20-2023-Premier-League.xlsx\",sheet_name=None)\n",
    "excel8= pd.read_excel(\"data_fbref_Premier_League_20_partidos_Newcastle-United-Aston-Villa-Octubre-29-2022-Premier-League.xlsx\",sheet_name=None)\n",
    "excel9= pd.read_excel(\"data_fbref_Premier_League_20_partidos_Liverpool-Aston-Villa-Mayo-20-2023-Premier-League.xlsx\",sheet_name=None)\n",
    "excel10= pd.read_excel(\"data_fbref_Premier_League_20_partidos_Everton-Southampton-Enero-14-2023-Premier-League.xlsx\",sheet_name=None)\n",
    "# excel11= pd.read_excel(\"data_fbref_Premier_League_19_partidos_Fulham-Crystal-Palace-Mayo-20-2023-Premier-League.xlsx\",sheet_name=None)\n",
    "excel12= pd.read_excel(\"data_fbref_Premier_League_180_partidos_Bournemouth-Chelsea-Mayo-6-2023-Premier-League.xlsx\",sheet_name=None)\n",
    "excel13= pd.read_excel(\"data_fbref_Premier_League_160_partidos_West-Ham-United-Liverpool-Abril-26-2023-Premier-League.xlsx\",sheet_name=None)\n",
    "excel14= pd.read_excel(\"data_fbref_Premier_League_140_partidos_Wolverhampton-Wanderers-Brentford-Abril-15-2023-Premier-League.xlsx\",sheet_name=None)\n",
    "excel15= pd.read_excel(\"data_fbref_Premier_League_120_partidos_Everton-Tottenham-Hotspur-Abril-3-2023-Premier-League.xlsx\",sheet_name=None)\n",
    "excel16= pd.read_excel(\"data_fbref_Premier_League_100_partidos_West-Ham-United-Aston-Villa-Marzo-12-2023-Premier-League.xlsx\",sheet_name=None)"
   ]
  },
  {
   "cell_type": "code",
   "execution_count": 32,
   "id": "c39a7ac8-b4b9-4655-bfe7-a26a3c2bf9da",
   "metadata": {},
   "outputs": [],
   "source": [
    "excels= [excel1,excel2,excel3,excel4,excel5,excel6,excel7,excel8,excel9,excel10,excel12,excel13,excel14,excel15,excel16]"
   ]
  },
  {
   "cell_type": "code",
   "execution_count": 33,
   "id": "50a3f543-6968-45ac-bbe3-6f3f77de24f1",
   "metadata": {},
   "outputs": [
    {
     "data": {
      "text/plain": [
       "14"
      ]
     },
     "execution_count": 33,
     "metadata": {},
     "output_type": "execute_result"
    }
   ],
   "source": [
    "len(excels[1:])"
   ]
  },
  {
   "cell_type": "code",
   "execution_count": 34,
   "id": "4a06bc7c-8be4-4a76-a650-0ea99b2fe53d",
   "metadata": {},
   "outputs": [],
   "source": [
    "writer = pd.ExcelWriter('Info_premier_compl_2022-2023.xlsx')\n",
    "nombres_hoja_partidos=[\"match_stats\",\"stats_keeper\",\"stats_summary\",\"stats_shots\",\"stats_passing\",\"stats_passing_types\",\"stats_defense\",\"stats_possession\",\"stats_misc\"]\n",
    "for nom in nombres_hoja_partidos:\n",
    "    info_match = excels[0][nom].copy()\n",
    "    for exc in excels[1:]:\n",
    "        info_match = pd.concat([info_match,exc[nom]])\n",
    "    info_match.to_excel(writer, nom)\n",
    "writer.save()\n",
    "writer.close()"
   ]
  },
  {
   "cell_type": "markdown",
   "id": "99cba971-f4db-4788-b769-5a7fef934f0a",
   "metadata": {},
   "source": [
    "# Liga española"
   ]
  },
  {
   "cell_type": "code",
   "execution_count": 36,
   "id": "baa6fd01-34cd-422e-93e1-1f28e26d697b",
   "metadata": {},
   "outputs": [],
   "source": [
    "excel1= pd.read_excel(\"data_fbref_LaLiga_20_partidos_Girona-Getafe-Agosto-22-2022-La-Liga.xlsx\",sheet_name=None)\n",
    "excel2= pd.read_excel(\"data_fbref_LaLiga_40_partidos_Valladolid-Almeria-Septiembre-5-2022-La-Liga.xlsx\",sheet_name=None)\n",
    "excel3= pd.read_excel(\"data_fbref_LaLiga_20_partidos_El-Derbi-Madrileno-Atletico-Madrid-Real-Madrid-Septiembre-18-2022-La-Liga.xlsx\",sheet_name=None)\n",
    "excel4= pd.read_excel(\"data_fbref_LaLiga_40_partidos_Elche-Mallorca-Octubre-10-2022-La-Liga.xlsx\",sheet_name=None)\n",
    "excel5= pd.read_excel(\"data_fbref_LaLiga_60_partidos_Barcelona-Villarreal-Octubre-20-2022-La-Liga.xlsx\",sheet_name=None)\n",
    "excel6= pd.read_excel(\"data_fbref_LaLiga_80_partidos_Elche-Getafe-Octubre-31-2022-La-Liga.xlsx\",sheet_name=None)\n",
    "excel7= pd.read_excel(\"data_fbref_LaLiga_100_partidos_Real-Madrid-Cadiz-Noviembre-10-2022-La-Liga.xlsx\",sheet_name=None)\n",
    "excel8= pd.read_excel(\"data_fbref_LaLiga_120_partidos_Athletic-Club-Osasuna-Enero-9-2023-La-Liga.xlsx\",sheet_name=None)\n",
    "excel9= pd.read_excel(\"data_fbref_LaLiga_140_partidos_Cadiz-Mallorca-Enero-28-2023-La-Liga.xlsx\",sheet_name=None)\n",
    "excel10= pd.read_excel(\"data_fbref_LaLiga_160_partidos_Rayo-Vallecano-Almeria-Febrero-6-2023-La-Liga.xlsx\",sheet_name=None)\n",
    "excel12= pd.read_excel(\"data_fbref_LaLiga_180_partidos_Getafe-Valencia-Febrero-20-2023-La-Liga.xlsx\",sheet_name=None)\n",
    "excel13= pd.read_excel(\"data_fbref_LaLiga_200_partidos_Osasuna-Celta-Vigo-Marzo-6-2023-La-Liga.xlsx\",sheet_name=None)\n",
    "excel14= pd.read_excel(\"data_fbref_LaLiga_220_partidos_El-Clasico-Barcelona-Real-Madrid-Marzo-19-2023-La-Liga.xlsx\",sheet_name=None)\n",
    "excel15= pd.read_excel(\"data_fbref_LaLiga_240_partidos_Barcelona-Girona-Abril-10-2023-La-Liga.xlsx\",sheet_name=None)\n",
    "excel16= pd.read_excel(\"data_fbref_LaLiga_260_partidos_Sevilla-Villarreal-Abril-23-2023-La-Liga.xlsx\",sheet_name=None)\n",
    "excel17= pd.read_excel(\"data_fbref_LaLiga_280_partidos_Sevilla-Girona-Mayo-1-2023-La-Liga.xlsx\",sheet_name=None)\n",
    "excel18= pd.read_excel(\"data_fbref_LaLiga_300_partidos_Real-Betis-Rayo-Vallecano-Mayo-15-2023-La-Liga.xlsx\",sheet_name=None)\n",
    "excel19= pd.read_excel(\"data_fbref_LaLiga_10_partidos_Sevilla-Real-Betis-Mayo-21-2023-La-Liga.xlsx\",sheet_name=None)"
   ]
  },
  {
   "cell_type": "code",
   "execution_count": 37,
   "id": "4362af8b-f788-42a1-bb2e-61e8e859efe2",
   "metadata": {},
   "outputs": [],
   "source": [
    "excels= [excel1,excel2,excel3,excel4,excel5,excel6,excel7,excel8,excel9,excel10,excel12,excel13,excel14,excel15,excel16,excel17,excel18,excel19]"
   ]
  },
  {
   "cell_type": "code",
   "execution_count": 38,
   "id": "8bec347a-bc48-45f8-9035-2813a3872862",
   "metadata": {},
   "outputs": [
    {
     "data": {
      "text/plain": [
       "17"
      ]
     },
     "execution_count": 38,
     "metadata": {},
     "output_type": "execute_result"
    }
   ],
   "source": [
    "len(excels[1:])"
   ]
  },
  {
   "cell_type": "code",
   "execution_count": 39,
   "id": "666014d8-66e7-4232-a9d4-456e75e0680b",
   "metadata": {},
   "outputs": [],
   "source": [
    "writer = pd.ExcelWriter('Info_laliga_compl_2022-2023.xlsx')\n",
    "nombres_hoja_partidos=[\"match_stats\",\"stats_keeper\",\"stats_summary\",\"stats_shots\",\"stats_passing\",\"stats_passing_types\",\"stats_defense\",\"stats_possession\",\"stats_misc\"]\n",
    "for nom in nombres_hoja_partidos:\n",
    "    info_match = excels[0][nom].copy()\n",
    "    for exc in excels[1:]:\n",
    "        info_match = pd.concat([info_match,exc[nom]])\n",
    "    info_match.to_excel(writer, nom)\n",
    "writer.save()\n",
    "writer.close()"
   ]
  },
  {
   "cell_type": "code",
   "execution_count": null,
   "id": "61181d72-ab91-4c6c-997a-a4623d6f7e5f",
   "metadata": {},
   "outputs": [],
   "source": []
  }
 ],
 "metadata": {
  "kernelspec": {
   "display_name": "Python 3 (ipykernel)",
   "language": "python",
   "name": "python3"
  },
  "language_info": {
   "codemirror_mode": {
    "name": "ipython",
    "version": 3
   },
   "file_extension": ".py",
   "mimetype": "text/x-python",
   "name": "python",
   "nbconvert_exporter": "python",
   "pygments_lexer": "ipython3",
   "version": "3.8.13"
  }
 },
 "nbformat": 4,
 "nbformat_minor": 5
}
