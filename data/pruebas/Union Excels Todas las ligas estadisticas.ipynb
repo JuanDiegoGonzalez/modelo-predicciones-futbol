{
 "cells": [
  {
   "cell_type": "code",
   "execution_count": 3,
   "id": "e2520b58-7f7e-4e7a-b0e2-a54e73686329",
   "metadata": {},
   "outputs": [],
   "source": [
    "import warnings\n",
    "warnings.filterwarnings('ignore')\n",
    "import pandas as pd\n",
    "import numpy as np\n",
    "import matplotlib.pyplot as plt\n",
    "import datetime\n",
    "import seaborn as sns; sns.set()  # for plot styling"
   ]
  },
  {
   "cell_type": "markdown",
   "metadata": {},
   "source": [
    "# Liga Premier"
   ]
  },
  {
   "cell_type": "code",
   "execution_count": null,
   "id": "119b663d-4168-443c-92c1-75b5c0465ed4",
   "metadata": {},
   "outputs": [],
   "source": [
    "excel1= pd.read_excel(\"data_fbref_Premier_League_80_partidos_Arsenal-Everton-Marzo-1-2023-Premier-League.xlsx\",sheet_name=None)\n",
    "excel2= pd.read_excel(\"data_fbref_Premier_League.xlsx\",sheet_name=None)\n",
    "excel3= pd.read_excel(\"data_fbref_Premier_League_60_partidos_Newcastle-United-Leeds-United-Diciembre-31-2022-Premier-League.xlsx\",sheet_name=None)\n",
    "excel4= pd.read_excel(\"data_fbref_Premier_League_60_partidos_Merseyside-Derby-Liverpool-Everton-Febrero-13-2023-Premier-League.xlsx\",sheet_name=None)\n",
    "excel5= pd.read_excel(\"data_fbref_Premier_League_40_partidos_Chelsea-Fulham-Febrero-3-2023-Premier-League.xlsx\",sheet_name=None)\n",
    "excel6= pd.read_excel(\"data_fbref_Premier_League_40_partidos_Bournemouth-Everton-Noviembre-12-2022-Premier-League.xlsx\",sheet_name=None)\n",
    "excel7= pd.read_excel(\"data_fbref_Premier_League_4_partidos_Nottingham-Forest-Arsenal-Mayo-20-2023-Premier-League.xlsx\",sheet_name=None)\n",
    "excel8= pd.read_excel(\"data_fbref_Premier_League_20_partidos_Newcastle-United-Aston-Villa-Octubre-29-2022-Premier-League.xlsx\",sheet_name=None)\n",
    "excel9= pd.read_excel(\"data_fbref_Premier_League_20_partidos_Liverpool-Aston-Villa-Mayo-20-2023-Premier-League.xlsx\",sheet_name=None)\n",
    "excel10= pd.read_excel(\"data_fbref_Premier_League_20_partidos_Everton-Southampton-Enero-14-2023-Premier-League.xlsx\",sheet_name=None)\n",
    "excel12= pd.read_excel(\"data_fbref_Premier_League_180_partidos_Bournemouth-Chelsea-Mayo-6-2023-Premier-League.xlsx\",sheet_name=None)\n",
    "excel13= pd.read_excel(\"data_fbref_Premier_League_160_partidos_West-Ham-United-Liverpool-Abril-26-2023-Premier-League.xlsx\",sheet_name=None)\n",
    "excel14= pd.read_excel(\"data_fbref_Premier_League_140_partidos_Wolverhampton-Wanderers-Brentford-Abril-15-2023-Premier-League.xlsx\",sheet_name=None)\n",
    "excel15= pd.read_excel(\"data_fbref_Premier_League_120_partidos_Everton-Tottenham-Hotspur-Abril-3-2023-Premier-League.xlsx\",sheet_name=None)\n",
    "excel16= pd.read_excel(\"data_fbref_Premier_League_100_partidos_West-Ham-United-Aston-Villa-Marzo-12-2023-Premier-League.xlsx\",sheet_name=None)\n",
    "excel17= pd.read_excel(\"data_fbref_PremierLeague_16_partidos_Brentford-Manchester-City-Mayo-28-2023-Premier-League.xlsx\",sheet_name=None)\n",
    "excel18= pd.read_excel(\"data_fbref_PremierLeague_10_partidos_Arsenal-Wolverhampton-Wanderers-Mayo-28-2023-Premier-League.xlsx\",sheet_name=None)\n",
    "excels= [excel1,excel2,excel3,excel4,excel5,excel6,excel7,excel8,excel9,excel10,excel12,excel13,excel14,excel15,excel16,excel17,excel18]"
   ]
  },
  {
   "cell_type": "code",
   "execution_count": 4,
   "id": "50a3f543-6968-45ac-bbe3-6f3f77de24f1",
   "metadata": {},
   "outputs": [
    {
     "data": {
      "text/plain": [
       "16"
      ]
     },
     "execution_count": 4,
     "metadata": {},
     "output_type": "execute_result"
    }
   ],
   "source": [
    "len(excels[1:])"
   ]
  },
  {
   "cell_type": "code",
   "execution_count": 5,
   "id": "4a06bc7c-8be4-4a76-a650-0ea99b2fe53d",
   "metadata": {},
   "outputs": [],
   "source": [
    "writer = pd.ExcelWriter('Info_premier_compl_2022-2023.xlsx')\n",
    "nombres_hoja_partidos=[\"match_stats\",\"stats_keeper\",\"stats_summary\",\"stats_shots\",\"stats_passing\",\"stats_passing_types\",\"stats_defense\",\"stats_possession\",\"stats_misc\"]\n",
    "for nom in nombres_hoja_partidos:\n",
    "    info_match = excels[0][nom].copy()\n",
    "    for exc in excels[1:]:\n",
    "        info_match = pd.concat([info_match,exc[nom]])\n",
    "    info_match.to_excel(writer, nom)\n",
    "writer.save()\n",
    "writer.close()"
   ]
  },
  {
   "cell_type": "markdown",
   "id": "99cba971-f4db-4788-b769-5a7fef934f0a",
   "metadata": {},
   "source": [
    "# Liga española"
   ]
  },
  {
   "cell_type": "code",
   "execution_count": 6,
   "id": "baa6fd01-34cd-422e-93e1-1f28e26d697b",
   "metadata": {},
   "outputs": [],
   "source": [
    "excel1= pd.read_excel(\"data_fbref_LaLiga_20_partidos_Girona-Getafe-Agosto-22-2022-La-Liga.xlsx\",sheet_name=None)\n",
    "excel2= pd.read_excel(\"data_fbref_LaLiga_40_partidos_Valladolid-Almeria-Septiembre-5-2022-La-Liga.xlsx\",sheet_name=None)\n",
    "excel3= pd.read_excel(\"data_fbref_LaLiga_20_partidos_El-Derbi-Madrileno-Atletico-Madrid-Real-Madrid-Septiembre-18-2022-La-Liga.xlsx\",sheet_name=None)\n",
    "excel4= pd.read_excel(\"data_fbref_LaLiga_40_partidos_Elche-Mallorca-Octubre-10-2022-La-Liga.xlsx\",sheet_name=None)\n",
    "excel5= pd.read_excel(\"data_fbref_LaLiga_60_partidos_Barcelona-Villarreal-Octubre-20-2022-La-Liga.xlsx\",sheet_name=None)\n",
    "excel6= pd.read_excel(\"data_fbref_LaLiga_80_partidos_Elche-Getafe-Octubre-31-2022-La-Liga.xlsx\",sheet_name=None)\n",
    "excel7= pd.read_excel(\"data_fbref_LaLiga_100_partidos_Real-Madrid-Cadiz-Noviembre-10-2022-La-Liga.xlsx\",sheet_name=None)\n",
    "excel8= pd.read_excel(\"data_fbref_LaLiga_120_partidos_Athletic-Club-Osasuna-Enero-9-2023-La-Liga.xlsx\",sheet_name=None)\n",
    "excel9= pd.read_excel(\"data_fbref_LaLiga_140_partidos_Cadiz-Mallorca-Enero-28-2023-La-Liga.xlsx\",sheet_name=None)\n",
    "excel10= pd.read_excel(\"data_fbref_LaLiga_160_partidos_Rayo-Vallecano-Almeria-Febrero-6-2023-La-Liga.xlsx\",sheet_name=None)\n",
    "excel12= pd.read_excel(\"data_fbref_LaLiga_180_partidos_Getafe-Valencia-Febrero-20-2023-La-Liga.xlsx\",sheet_name=None)\n",
    "excel13= pd.read_excel(\"data_fbref_LaLiga_200_partidos_Osasuna-Celta-Vigo-Marzo-6-2023-La-Liga.xlsx\",sheet_name=None)\n",
    "excel14= pd.read_excel(\"data_fbref_LaLiga_220_partidos_El-Clasico-Barcelona-Real-Madrid-Marzo-19-2023-La-Liga.xlsx\",sheet_name=None)\n",
    "excel15= pd.read_excel(\"data_fbref_LaLiga_240_partidos_Barcelona-Girona-Abril-10-2023-La-Liga.xlsx\",sheet_name=None)\n",
    "excel16= pd.read_excel(\"data_fbref_LaLiga_260_partidos_Sevilla-Villarreal-Abril-23-2023-La-Liga.xlsx\",sheet_name=None)\n",
    "excel17= pd.read_excel(\"data_fbref_LaLiga_280_partidos_Sevilla-Girona-Mayo-1-2023-La-Liga.xlsx\",sheet_name=None)\n",
    "excel18= pd.read_excel(\"data_fbref_LaLiga_300_partidos_Real-Betis-Rayo-Vallecano-Mayo-15-2023-La-Liga.xlsx\",sheet_name=None)\n",
    "excel19= pd.read_excel(\"data_fbref_LaLiga_10_partidos_Sevilla-Real-Betis-Mayo-21-2023-La-Liga.xlsx\",sheet_name=None)\n",
    "excel20= pd.read_excel(\"data_fbref_Laliga_10_partidos_Osasuna-Athletic-Club-Mayo-25-2023-La-Liga.xlsx\",sheet_name=None)\n",
    "excel21= pd.read_excel(\"data_fbref_Laliga_20_partidos_Getafe-Osasuna-Mayo-28-2023-La-Liga.xlsx\",sheet_name=None)\n",
    "excel22= pd.read_excel(\"data_fbref_Laliga_30_partidos_Espanyol-Almeria-Junio-4-2023-La-Liga.xlsx\",sheet_name=None)"
   ]
  },
  {
   "cell_type": "code",
   "execution_count": 7,
   "id": "4362af8b-f788-42a1-bb2e-61e8e859efe2",
   "metadata": {},
   "outputs": [],
   "source": [
    "excels= [excel1,excel2,excel3,excel4,excel5,excel6,excel7,excel8,excel9,excel10,excel12,excel13,excel14,excel15,excel16,excel17,excel18,excel19,excel20,excel21,excel22]"
   ]
  },
  {
   "cell_type": "code",
   "execution_count": 8,
   "id": "8bec347a-bc48-45f8-9035-2813a3872862",
   "metadata": {},
   "outputs": [
    {
     "data": {
      "text/plain": [
       "20"
      ]
     },
     "execution_count": 8,
     "metadata": {},
     "output_type": "execute_result"
    }
   ],
   "source": [
    "len(excels[1:])"
   ]
  },
  {
   "cell_type": "code",
   "execution_count": 9,
   "id": "666014d8-66e7-4232-a9d4-456e75e0680b",
   "metadata": {},
   "outputs": [],
   "source": [
    "writer = pd.ExcelWriter('Info_laliga_compl_2022-2023.xlsx')\n",
    "nombres_hoja_partidos=[\"match_stats\",\"stats_keeper\",\"stats_summary\",\"stats_shots\",\"stats_passing\",\"stats_passing_types\",\"stats_defense\",\"stats_possession\",\"stats_misc\"]\n",
    "for nom in nombres_hoja_partidos:\n",
    "    info_match = excels[0][nom].copy()\n",
    "    for exc in excels[1:]:\n",
    "        info_match = pd.concat([info_match,exc[nom]])\n",
    "    info_match.to_excel(writer, nom)\n",
    "writer.save()\n",
    "writer.close()"
   ]
  },
  {
   "cell_type": "code",
   "execution_count": null,
   "id": "61181d72-ab91-4c6c-997a-a4623d6f7e5f",
   "metadata": {},
   "outputs": [],
   "source": []
  },
  {
   "cell_type": "markdown",
   "id": "4e0066b3-1cbf-4a06-bf34-9636020ce269",
   "metadata": {},
   "source": [
    "# Liga francesa"
   ]
  },
  {
   "cell_type": "code",
   "execution_count": 10,
   "id": "2d7c1401-554c-4859-aeef-31d8456b1d62",
   "metadata": {},
   "outputs": [],
   "source": [
    "excel1= pd.read_excel(\"data_fbref_SerieA_10_partidos_Monaco-Rennes-Agosto-13-2022-Ligue-1.xlsx\",sheet_name=None)\n",
    "excel2= pd.read_excel(\"data_fbref_SerieA_20_partidos_Marseille-Nantes-Agosto-20-2022-Ligue-1.xlsx\",sheet_name=None)\n",
    "excel3= pd.read_excel(\"data_fbref_SerieA_30_partidos_Lorient-Clermont-Foot-Agosto-28-2022-Ligue-1.xlsx\",sheet_name=None)\n",
    "excel4= pd.read_excel(\"data_fbref_SerieA_40_partidos_Montpellier-Ajaccio-Agosto-31-2022-Ligue-1.xlsx\",sheet_name=None)\n",
    "excel5= pd.read_excel(\"data_fbref_SerieA_50_partidos_Brest-Strasbourg-Septiembre-4-2022-Ligue-1.xlsx\",sheet_name=None)\n",
    "excel6= pd.read_excel(\"data_fbref_SerieA_60_partidos_Lorient-Nantes-Septiembre-11-2022-Ligue-1.xlsx\",sheet_name=None)\n",
    "excel7= pd.read_excel(\"data_fbref_SerieA_70_partidos_Clermont-Foot-Troyes-Septiembre-18-2022-Ligue-1.xlsx\",sheet_name=None)\n",
    "excel8= pd.read_excel(\"data_fbref_SerieA_80_partidos_Troyes-Reims-Octubre-2-2022-Ligue-1.xlsx\",sheet_name=None)\n",
    "excel9= pd.read_excel(\"data_fbref_SerieA_90_partidos_Angers-Strasbourg-Octubre-9-2022-Ligue-1.xlsx\",sheet_name=None)\n",
    "excel10= pd.read_excel(\"data_fbref_SerieA_100_partidos_Troyes-Ajaccio-Octubre-16-2022-Ligue-1.xlsx\",sheet_name=None)\n",
    "excel12= pd.read_excel(\"data_fbref_SerieA_110_partidos_Clermont-Foot-Brest-Octubre-23-2022-Ligue-1.xlsx\",sheet_name=None)\n",
    "excel13= pd.read_excel(\"data_fbref_SerieA_120_partidos_Monaco-Angers-Octubre-30-2022-Ligue-1.xlsx\",sheet_name=None)\n",
    "excel14= pd.read_excel(\"data_fbref_SerieA_130_partidos_Reims-Nantes-Noviembre-6-2022-Ligue-1.xlsx\",sheet_name=None)\n",
    "excel15= pd.read_excel(\"data_fbref_SerieA_140_partidos_Montpellier-Reims-Noviembre-13-2022-Ligue-1.xlsx\",sheet_name=None)\n",
    "excel16= pd.read_excel(\"data_fbref_SerieA_150_partidos_Paris-Saint-Germain-Strasbourg-Diciembre-28-2022-Ligue-1.xlsx\",sheet_name=None)\n",
    "excel17= pd.read_excel(\"data_fbref_SerieA_160_partidos_Lens-Paris-Saint-Germain-Enero-1-2023-Ligue-1.xlsx\",sheet_name=None)\n",
    "excel18= pd.read_excel(\"data_fbref_SerieA_170_partidos_Troyes-Marseille-Enero-11-2023-Ligue-1.xlsx\",sheet_name=None)\n",
    "excel19= pd.read_excel(\"data_fbref_SerieA_180_partidos_Montpellier-Nantes-Enero-15-2023-Ligue-1.xlsx\",sheet_name=None)\n",
    "excel20= pd.read_excel(\"data_fbref_SerieA_190_partidos_Brest-Angers-Enero-29-2023-Ligue-1.xlsx\",sheet_name=None)\n",
    "excel21= pd.read_excel(\"data_fbref_SerieA_200_partidos_Lyon-Brest-Febrero-1-2023-Ligue-1.xlsx\",sheet_name=None)\n",
    "excel22= pd.read_excel(\"data_fbref_SerieA_210_partidos_Ajaccio-Nantes-Febrero-5-2023-Ligue-1.xlsx\",sheet_name=None)\n",
    "excel23= pd.read_excel(\"data_fbref_SerieA_220_partidos_Lille-Strasbourg-Febrero-12-2023-Ligue-1.xlsx\",sheet_name=None)\n",
    "excel24= pd.read_excel(\"data_fbref_SerieA_230_partidos_Lorient-Ajaccio-Febrero-19-2023-Ligue-1.xlsx\",sheet_name=None)\n",
    "excel25= pd.read_excel(\"data_fbref_SerieA_240_partidos_Ajaccio-Troyes-Febrero-26-2023-Ligue-1.xlsx\",sheet_name=None)\n",
    "excel26= pd.read_excel(\"data_fbref_SerieA_250_partidos_Toulouse-Clermont-Foot-Marzo-5-2023-Ligue-1.xlsx\",sheet_name=None)\n",
    "excel27= pd.read_excel(\"data_fbref_SerieA_260_partidos_Ajaccio-Montpellier-Marzo-12-2023-Ligue-1.xlsx\",sheet_name=None)\n",
    "excel28= pd.read_excel(\"data_fbref_SerieA_270_partidos_Strasbourg-Auxerre-Marzo-19-2023-Ligue-1.xlsx\",sheet_name=None)\n",
    "excel29= pd.read_excel(\"data_fbref_SerieA_280_partidos_Angers-Nice-Abril-2-2023-Ligue-1.xlsx\",sheet_name=None)\n",
    "excel30= pd.read_excel(\"data_fbref_SerieA_290_partidos_Ajaccio-Auxerre-Abril-9-2023-Ligue-1.xlsx\",sheet_name=None)\n",
    "excel31= pd.read_excel(\"data_fbref_SerieA_300_partidos_Strasbourg-Ajaccio-Abril-16-2023-Ligue-1.xlsx\",sheet_name=None)\n",
    "excel32= pd.read_excel(\"data_fbref_SerieA_310_partidos_Nice-Clermont-Foot-Abril-23-2023-Ligue-1.xlsx\",sheet_name=None)\n",
    "excel33= pd.read_excel(\"data_fbref_SerieA_320_partidos_Rennes-Angers-Abril-30-2023-Ligue-1.xlsx\",sheet_name=None)\n",
    "excel34= pd.read_excel(\"data_fbref_SerieA_330_partidos_Lorient-Brest-Mayo-7-2023-Ligue-1.xlsx\",sheet_name=None)\n",
    "excel35= pd.read_excel(\"data_fbref_SerieA_340_partidos_Toulouse-Nantes-Mayo-14-2023-Ligue-1.xlsx\",sheet_name=None)\n",
    "excel36= pd.read_excel(\"data_fbref_SerieA_350_partidos_Reims-Angers-Mayo-21-2023-Ligue-1.xlsx\",sheet_name=None)\n",
    "excel37= pd.read_excel(\"data_fbref_SerieA_360_partidos_Montpellier-Nice-Mayo-27-2023-Ligue-1.xlsx\",sheet_name=None)\n",
    "excel38= pd.read_excel(\"data_fbref_SerieA_370_partidos_Nice-Lyon-Junio-3-2023-Ligue-1.xlsx\",sheet_name=None)\n",
    "excel39= pd.read_excel(\"data_fbref_SerieA_374_partidos_Brest-Rennes-Junio-3-2023-Ligue-1.xlsx\",sheet_name=None)"
   ]
  },
  {
   "cell_type": "code",
   "execution_count": 11,
   "id": "2f2d71c9-97ba-4252-9525-3997a2caad0b",
   "metadata": {},
   "outputs": [],
   "source": [
    "excels= [excel1,excel2,excel3,excel4,excel5,excel6,excel7,excel8,excel9,excel10,excel12,excel13,excel14,excel15,excel16,excel17,excel18,excel19,excel20,excel21,excel22,excel23,excel24,excel25,excel26,excel27,excel27,excel28,excel29,excel30,excel31,excel32,excel33,excel34,excel35,excel36,excel37,excel38,excel38,excel39]"
   ]
  },
  {
   "cell_type": "code",
   "execution_count": 12,
   "id": "4d200400-94f7-4a42-b361-174967e67d5f",
   "metadata": {},
   "outputs": [
    {
     "data": {
      "text/plain": [
       "39"
      ]
     },
     "execution_count": 12,
     "metadata": {},
     "output_type": "execute_result"
    }
   ],
   "source": [
    "len(excels[1:])"
   ]
  },
  {
   "cell_type": "code",
   "execution_count": 13,
   "id": "96fa377d-2ea9-4166-87f6-5af5a6044eba",
   "metadata": {},
   "outputs": [],
   "source": [
    "writer = pd.ExcelWriter('Info_ligue1_compl_2022-2023.xlsx')\n",
    "nombres_hoja_partidos=[\"match_stats\",\"stats_keeper\",\"stats_summary\",\"stats_shots\",\"stats_passing\",\"stats_passing_types\",\"stats_defense\",\"stats_possession\",\"stats_misc\"]\n",
    "for nom in nombres_hoja_partidos:\n",
    "    info_match = excels[0][nom].copy()\n",
    "    for exc in excels[1:]:\n",
    "        info_match = pd.concat([info_match,exc[nom]])\n",
    "    info_match.to_excel(writer, nom)\n",
    "writer.save()\n",
    "writer.close()"
   ]
  },
  {
   "cell_type": "markdown",
   "id": "1d1be1db-776b-4f34-999e-84b14e404d75",
   "metadata": {},
   "source": [
    "# Liga brasileña"
   ]
  },
  {
   "cell_type": "code",
   "execution_count": 4,
   "id": "283868a2-c2f8-4738-a827-411c29e98c35",
   "metadata": {},
   "outputs": [],
   "source": [
    "excel1= pd.read_excel(\"data_fbref_SerieA_10_partidos_Fluminense-Atletico-Paranaense-Abril-22-2023-Serie-A.xlsx\",sheet_name=None)\n",
    "excel2= pd.read_excel(\"data_fbref_SerieA_20_partidos_Fortaleza-Fluminense-Abril-29-2023-Serie-A.xlsx\",sheet_name=None)\n",
    "excel3= pd.read_excel(\"data_fbref_SerieA_30_partidos_Atletico-Paranaense-Flamengo-Mayo-7-2023-Serie-A.xlsx\",sheet_name=None)\n",
    "excel4= pd.read_excel(\"data_fbref_SerieA_40_partidos_Santos-Bahia-Mayo-10-2023-Serie-A.xlsx\",sheet_name=None)\n",
    "excel5= pd.read_excel(\"data_fbref_SerieA_50_partidos_Classico-Majestoso-Corinthians-Sao-Paulo-Mayo-14-2023-Serie-A.xlsx\",sheet_name=None)\n",
    "excel6= pd.read_excel(\"data_fbref_SerieA_60_partidos_Flamengo-Corinthians-Mayo-21-2023-Serie-A.xlsx\",sheet_name=None)\n",
    "excel7= pd.read_excel(\"data_fbref_SerieA_70_partidos_Atletico-Mineiro-Palmeiras-Mayo-28-2023-Serie-A.xlsx\",sheet_name=None)\n",
    "excel8= pd.read_excel(\"data_fbref_SerieA_80_partidos_Palmeiras-Coritiba-Junio-4-2023-Serie-A.xlsx\",sheet_name=None)\n",
    "excel9= pd.read_excel(\"data_fbref_SerieA_90_partidos_Botafogo-RJ-Fortaleza-Junio-10-2023-Serie-A.xlsx\",sheet_name=None)\n",
    "excel10= pd.read_excel(\"data_fbref_SerieA_100_partidos_Atletico-Paranaense-Corinthians-Junio-24-2023-Serie-A.xlsx\",sheet_name=None)\n",
    "excel12= pd.read_excel(\"data_fbref_SerieA_110_partidos_Bahia-Gremio-Julio-1-2023-Serie-A.xlsx\",sheet_name=None)\n",
    "excel13= pd.read_excel(\"data_fbref_SerieA_120_partidos_Coritiba-America-MG-Julio-8-2023-Serie-A.xlsx\",sheet_name=None)\n",
    "excel14= pd.read_excel(\"data_fbref_SerieA_130_partidos_Fluminense-Flamengo-Julio-16-2023-Serie-A.xlsx\",sheet_name=None)\n",
    "excel15= pd.read_excel(\"data_fbref_SerieA_140_partidos_Cruzeiro-Goias-Julio-23-2023-Serie-A.xlsx\",sheet_name=None)\n",
    "excel16= pd.read_excel(\"data_fbref_SerieA_150_partidos_Botafogo-RJ-Coritiba-Julio-30-2023-Serie-A.xlsx\",sheet_name=None)\n",
    "excel17= pd.read_excel(\"data_fbref_17_partidos_Fluminense-Palmeiras-Agosto-5-2023-Serie-A.xlsx\",sheet_name=None)\n",
    "excel18= pd.read_excel(\"data_fbref_10_partidos_Internacional-Vasco-da-Gama-Junio-11-2023-Serie-A.xlsx\",sheet_name=None)\n",
    "excel19= pd.read_excel(\"data_fbref_0_partidos_America-MG-Fluminense-Abril-15-2023-Serie-A.xlsx\",sheet_name=None)\n",
    "excel20= pd.read_excel(\"data_fbref_10_partidos_Fluminense-Palmeiras-Agosto-5-2023-Serie-A.xlsx\",sheet_name=None)\n",
    "excel21= pd.read_excel(\"data_fbref_20_partidos_Bragantino-Vasco-da-Gama-Agosto-14-2023-Serie-A.xlsx\",sheet_name=None)\n",
    "# excel22= pd.read_excel(\".xlsx\",sheet_name=None)"
   ]
  },
  {
   "cell_type": "code",
   "execution_count": 5,
   "id": "f0319b53-a4f2-428f-88db-2e7aa950e763",
   "metadata": {},
   "outputs": [],
   "source": [
    "excels= [excel1,excel2,excel3,excel4,excel5,excel6,excel7,excel8,excel9,excel10,excel12,excel13,excel14,excel15,excel16,excel17,excel18,excel19,excel20,excel21]"
   ]
  },
  {
   "cell_type": "code",
   "execution_count": 6,
   "id": "0faf68d4-de65-4cdf-a274-56666a5d2b33",
   "metadata": {},
   "outputs": [
    {
     "data": {
      "text/plain": [
       "19"
      ]
     },
     "execution_count": 6,
     "metadata": {},
     "output_type": "execute_result"
    }
   ],
   "source": [
    "len(excels[1:])"
   ]
  },
  {
   "cell_type": "code",
   "execution_count": 7,
   "id": "d7810582-dd37-4cfb-9d93-83eb92ace4fe",
   "metadata": {},
   "outputs": [],
   "source": [
    "# excel3['stats_shots'].columns"
   ]
  },
  {
   "cell_type": "code",
   "execution_count": 8,
   "id": "a5193682-6565-42fe-b7a4-215b88883dce",
   "metadata": {},
   "outputs": [],
   "source": [
    "# excel3['stats_shots'].rename(columns={'Jugador.2':\"Evento.1\",'Evento':\"Jugador.2\",\"Jugador.1\":\"Evento\",\"Notas\":\"Jugador.1\",\"Parte del cuerpo\":\"Notas\",'Distance':\"Parte del cuerpo\",\"Resultado\":\"Distance\",\"PSxG\":\"Resultado\",\"xG\":\"PSxG\",\"Equipo.1\":\"xG\",'Jugador':\"Equipo.1\",\"Minute\":\"Jugador\",'Equipo':\"Minute\"},inplace=True)\n",
    "# excel3['stats_shots'].rename(columns={'Equipo.1':\"Equipo\"},inplace=True)"
   ]
  },
  {
   "cell_type": "code",
   "execution_count": 9,
   "id": "90f7e588-6d07-4460-a611-4e719db39ed9",
   "metadata": {},
   "outputs": [],
   "source": [
    "# excel3['stats_shots'].columns"
   ]
  },
  {
   "cell_type": "code",
   "execution_count": 11,
   "id": "3df815a1-93ea-405c-9e15-0867220088a5",
   "metadata": {},
   "outputs": [
    {
     "name": "stdout",
     "output_type": "stream",
     "text": [
      "Index(['Fecha', 'Minute', 'Jugador', 'Equipo', 'xG', 'PSxG', 'Resultado',\n",
      "       'Distance', 'Parte del cuerpo', 'Notas', 'Jugador.1', 'Evento',\n",
      "       'Jugador.2', 'Evento.1'],\n",
      "      dtype='object')\n",
      "No existe la páginastats_shotsen el excel\n",
      "No existe la páginastats_passingen el excel\n",
      "No existe la páginastats_passing_typesen el excel\n",
      "No existe la páginastats_defenseen el excel\n",
      "No existe la páginastats_possessionen el excel\n",
      "No existe la páginastats_miscen el excel\n"
     ]
    }
   ],
   "source": [
    "writer = pd.ExcelWriter('Info_seriea_brasil_compl_2022-2023.xlsx')\n",
    "nombres_hoja_partidos=[\"match_stats\",\"stats_keeper\",\"stats_summary\",\"stats_shots\",\"stats_passing\",\"stats_passing_types\",\"stats_defense\",\"stats_possession\",\"stats_misc\"]\n",
    "for nom in nombres_hoja_partidos:\n",
    "    info_match = excels[0][nom].copy()\n",
    "    if nom == \"stats_shots\" and ('Equipo.1' in np.array(info_match.columns)):\n",
    "#         print(\"entró primero\")\n",
    "        info_match.drop(inplace=True,columns=[\"Evento.1\"])\n",
    "        info_match.rename(columns={'Jugador.2':\"Evento.1\",'Evento':\"Jugador.2\",\"Jugador.1\":\"Evento\",\"Notas\":\"Jugador.1\",\"Parte del cuerpo\":\"Notas\",'Distance':\"Parte del cuerpo\",\"Resultado\":\"Distance\",\"PSxG\":\"Resultado\",\"xG\":\"PSxG\",\"Equipo.1\":\"xG\",'Jugador':\"Equipo.1\",\"Minute\":\"Jugador\",'Equipo':\"Minute\"},inplace=True)\n",
    "        info_match.rename(columns={'Equipo.1':\"Equipo\"},inplace=True)\n",
    "        print(info_match.columns)\n",
    "    for exc in excels[1:]:\n",
    "        try:\n",
    "            if nom == \"stats_shots\" and ('Equipo.1' in np.array(exc['stats_shots'].columns)):\n",
    "    #             print(\"entró segundo\")\n",
    "                exc['stats_shots'].drop(inplace=True,columns=[\"Evento.1\"])\n",
    "                exc['stats_shots'].rename(columns={'Jugador.2':\"Evento.1\",'Evento':\"Jugador.2\",\"Jugador.1\":\"Evento\",\"Notas\":\"Jugador.1\",\"Parte del cuerpo\":\"Notas\",'Distance':\"Parte del cuerpo\",\"Resultado\":\"Distance\",\"PSxG\":\"Resultado\",\"xG\":\"PSxG\",\"Equipo.1\":\"xG\",'Jugador':\"Equipo.1\",\"Minute\":\"Jugador\",'Equipo':\"Minute\"},inplace=True)\n",
    "                exc['stats_shots'].rename(columns={'Equipo.1':\"Equipo\"},inplace=True)\n",
    "            info_match = pd.concat([info_match,exc[nom]])\n",
    "        except:\n",
    "            print(\"No existe la página\"+nom+ \"en el excel\")\n",
    "        \n",
    "    info_match.to_excel(writer, nom)\n",
    "writer.save()\n",
    "writer.close()"
   ]
  },
  {
   "cell_type": "markdown",
   "id": "cfd94fb3-86d6-4bfb-b8bd-169e0cc03118",
   "metadata": {},
   "source": [
    "# Liga alemana"
   ]
  },
  {
   "cell_type": "code",
   "execution_count": 18,
   "id": "a8ba2d97-319b-4de2-baf3-152a57c7be5a",
   "metadata": {},
   "outputs": [],
   "source": [
    "excel1= pd.read_excel(\"data_fbref_Bundesliga_20_partidos_Bayer-Leverkusen-Hoffenheim-Agosto-20-2022-Bundesliga.xlsx\",sheet_name=None)\n",
    "excel2= pd.read_excel(\"data_fbref_Bundesliga_40_partidos_Union-Berlin-Bayern-Munich-Septiembre-3-2022-Bundesliga.xlsx\",sheet_name=None)\n",
    "excel3= pd.read_excel(\"data_fbref_Bundesliga_60_partidos_Monchengladbach-RB-Leipzig-Septiembre-17-2022-Bundesliga.xlsx\",sheet_name=None)\n",
    "excel4= pd.read_excel(\"data_fbref_Bundesliga_80_partidos_Hertha-BSC-Freiburg-Octubre-9-2022-Bundesliga.xlsx\",sheet_name=None)\n",
    "excel5= pd.read_excel(\"data_fbref_Bundesliga_100_partidos_Bayern-Munich-Mainz-05-Octubre-29-2022-Bundesliga.xlsx\",sheet_name=None)\n",
    "excel6= pd.read_excel(\"data_fbref_Bundesliga_120_partidos_Bayern-Munich-Werder-Bremen-Noviembre-8-2022-Bundesliga.xlsx\",sheet_name=None)\n",
    "excel7= pd.read_excel(\"data_fbref_Bundesliga_140_partidos_Eintracht-Frankfurt-Schalke-04-Enero-21-2023-Bundesliga.xlsx\",sheet_name=None)\n",
    "excel8= pd.read_excel(\"data_fbref_Bundesliga_160_partidos_Schalke-04-Koln-Enero-29-2023-Bundesliga.xlsx\",sheet_name=None)\n",
    "excel9= pd.read_excel(\"data_fbref_Bundesliga_180_partidos_Augsburg-Hoffenheim-Febrero-17-2023-Bundesliga.xlsx\",sheet_name=None)\n",
    "excel10= pd.read_excel(\"data_fbref_Bundesliga_200_partidos_Monchengladbach-Freiburg-Marzo-4-2023-Bundesliga.xlsx\",sheet_name=None)\n",
    "excel12= pd.read_excel(\"data_fbref_Bundesliga_220_partidos_Bochum-RB-Leipzig-Marzo-18-2023-Bundesliga.xlsx\",sheet_name=None)\n",
    "excel13= pd.read_excel(\"data_fbref_Bundesliga_240_partidos_Monchengladbach-Wolfsburg-Abril-9-2023-Bundesliga.xlsx\",sheet_name=None)\n",
    "excel14= pd.read_excel(\"data_fbref_Bundesliga_260_partidos_Monchengladbach-Union-Berlin-Abril-23-2023-Bundesliga.xlsx\",sheet_name=None)\n",
    "excel15= pd.read_excel(\"data_fbref_Bundesliga_280_partidos_Eintracht-Frankfurt-Mainz-05-Mayo-13-2023-Bundesliga.xlsx\",sheet_name=None)\n",
    "excel16= pd.read_excel(\"data_fbref_Bundesliga_300_partidos_Eintracht-Frankfurt-Freiburg-Mayo-27-2023-Bundesliga.xlsx\",sheet_name=None)\n",
    "excel17= pd.read_excel(\"data_fbref_Bundesliga_320_partidos_Hertha-BSC-Eintracht-Frankfurt-Agosto-13-2022-Bundesliga.xlsx\",sheet_name=None)"
   ]
  },
  {
   "cell_type": "code",
   "execution_count": 19,
   "id": "4546a4ed-9d1e-4a43-a8ce-008090ea01f1",
   "metadata": {},
   "outputs": [],
   "source": [
    "excels= [excel1,excel2,excel3,excel4,excel5,excel6,excel7,excel8,excel9,excel10,excel12,excel13,excel14,excel15,excel16,excel17]"
   ]
  },
  {
   "cell_type": "code",
   "execution_count": 20,
   "id": "04064d3a-ac43-4c10-b920-437fbe49ff8c",
   "metadata": {},
   "outputs": [
    {
     "data": {
      "text/plain": [
       "15"
      ]
     },
     "execution_count": 20,
     "metadata": {},
     "output_type": "execute_result"
    }
   ],
   "source": [
    "len(excels[1:])"
   ]
  },
  {
   "cell_type": "code",
   "execution_count": 21,
   "id": "fca84e53-75d6-4b04-8109-2d0b424bc8bd",
   "metadata": {},
   "outputs": [],
   "source": [
    "writer = pd.ExcelWriter('Info_bundesliga_compl_2022-2023.xlsx')\n",
    "nombres_hoja_partidos=[\"match_stats\",\"stats_keeper\",\"stats_summary\",\"stats_shots\",\"stats_passing\",\"stats_passing_types\",\"stats_defense\",\"stats_possession\",\"stats_misc\"]\n",
    "for nom in nombres_hoja_partidos:\n",
    "    info_match = excels[0][nom].copy()\n",
    "    for exc in excels[1:]:\n",
    "        info_match = pd.concat([info_match,exc[nom]])\n",
    "    info_match.to_excel(writer, nom)\n",
    "writer.save()\n",
    "writer.close()"
   ]
  },
  {
   "cell_type": "markdown",
   "id": "6592c4b0-a5b6-40ee-bb05-e8bfee22e79b",
   "metadata": {},
   "source": [
    "# Liga italiana"
   ]
  },
  {
   "cell_type": "code",
   "execution_count": 22,
   "id": "a586854d-c567-4b85-87aa-c797fdd70c58",
   "metadata": {},
   "outputs": [],
   "source": [
    "excel1= pd.read_excel(\"data_fbref_SerieA_10_partidos_Juventus-Sassuolo-Agosto-15-2022-Serie-A.xlsx\",sheet_name=None)\n",
    "excel2= pd.read_excel(\"data_fbref_SerieA_20_partidos_Sampdoria-Juventus-Agosto-22-2022-Serie-A.xlsx\",sheet_name=None)\n",
    "excel3= pd.read_excel(\"data_fbref_SerieA_30_partidos_Fiorentina-Napoli-Agosto-28-2022-Serie-A.xlsx\",sheet_name=None)\n",
    "excel4= pd.read_excel(\"data_fbref_SerieA_40_partidos_Bologna-Salernitana-Septiembre-1-2022-Serie-A.xlsx\",sheet_name=None)\n",
    "excel5= pd.read_excel(\"data_fbref_SerieA_50_partidos_Torino-Lecce-Septiembre-5-2022-Serie-A.xlsx\",sheet_name=None)\n",
    "excel6= pd.read_excel(\"data_fbref_SerieA_60_partidos_Empoli-Roma-Septiembre-12-2022-Serie-A.xlsx\",sheet_name=None)\n",
    "excel7= pd.read_excel(\"data_fbref_SerieA_70_partidos_Milan-Napoli-Septiembre-18-2022-Serie-A.xlsx\",sheet_name=None)\n",
    "excel8= pd.read_excel(\"data_fbref_SerieA_80_partidos_Hellas-Verona-Udinese-Octubre-3-2022-Serie-A.xlsx\",sheet_name=None)\n",
    "excel9= pd.read_excel(\"data_fbref_SerieA_90_partidos_Fiorentina-Lazio-Octubre-10-2022-Serie-A.xlsx\",sheet_name=None)\n",
    "excel10= pd.read_excel(\"data_fbref_SerieA_100_partidos_Lecce-Fiorentina-Octubre-17-2022-Serie-A.xlsx\",sheet_name=None)\n",
    "excel12= pd.read_excel(\"data_fbref_SerieA_110_partidos_Sassuolo-Hellas-Verona-Octubre-24-2022-Serie-A.xlsx\",sheet_name=None)\n",
    "excel13= pd.read_excel(\"data_fbref_SerieA_120_partidos_Monza-Bologna-Octubre-31-2022-Serie-A.xlsx\",sheet_name=None)\n",
    "excel14= pd.read_excel(\"data_fbref_SerieA_130_partidos_Derby-dItalia-Juventus-Internazionale-Noviembre-6-2022-Serie-A.xlsx\",sheet_name=None)\n",
    "excel15= pd.read_excel(\"data_fbref_SerieA_140_partidos_Lazio-Monza-Noviembre-10-2022-Serie-A.xlsx\",sheet_name=None)\n",
    "excel16= pd.read_excel(\"data_fbref_SerieA_150_partidos_Juventus-Lazio-Noviembre-13-2022-Serie-A.xlsx\",sheet_name=None)\n",
    "excel17= pd.read_excel(\"data_fbref_SerieA_160_partidos_Udinese-Empoli-Enero-4-2023-Serie-A.xlsx\",sheet_name=None)\n",
    "excel18= pd.read_excel(\"data_fbref_SerieA_170_partidos_Bologna-Atalanta-Enero-9-2023-Serie-A.xlsx\",sheet_name=None)\n",
    "excel19= pd.read_excel(\"data_fbref_SerieA_180_partidos_Empoli-Sampdoria-Enero-16-2023-Serie-A.xlsx\",sheet_name=None)\n",
    "excel20= pd.read_excel(\"data_fbref_SerieA_190_partidos_Lazio-Milan-Enero-24-2023-Serie-A.xlsx\",sheet_name=None)\n",
    "excel21= pd.read_excel(\"data_fbref_SerieA_200_partidos_Udinese-Hellas-Verona-Enero-30-2023-Serie-A.xlsx\",sheet_name=None)\n",
    "excel22= pd.read_excel(\"data_fbref_SerieA_210_partidos_Salernitana-Juventus-Febrero-7-2023-Serie-A.xlsx\",sheet_name=None)\n",
    "excel23= pd.read_excel(\"data_fbref_SerieA_220_partidos_Sampdoria-Internazionale-Febrero-13-2023-Serie-A.xlsx\",sheet_name=None)\n",
    "excel24= pd.read_excel(\"data_fbref_SerieA_230_partidos_Torino-Cremonese-Febrero-20-2023-Serie-A.xlsx\",sheet_name=None)\n",
    "excel25= pd.read_excel(\"data_fbref_SerieA_240_partidos_Juventus-Torino-Febrero-28-2023-Serie-A.xlsx\",sheet_name=None)\n",
    "excel26= pd.read_excel(\"data_fbref_SerieA_250_partidos_Torino-Bologna-Marzo-6-2023-Serie-A.xlsx\",sheet_name=None)\n",
    "excel27= pd.read_excel(\"data_fbref_SerieA_260_partidos_Milan-Salernitana-Marzo-13-2023-Serie-A.xlsx\",sheet_name=None)\n",
    "excel28= pd.read_excel(\"data_fbref_SerieA_270_partidos_Derby-dItalia-Internazionale-Juventus-Marzo-19-2023-Serie-A.xlsx\",sheet_name=None)\n",
    "excel29= pd.read_excel(\"data_fbref_SerieA_280_partidos_Sassuolo-Torino-Abril-3-2023-Serie-A.xlsx\",sheet_name=None)\n",
    "excel30= pd.read_excel(\"data_fbref_SerieA_290_partidos_Lazio-Juventus-Abril-8-2023-Serie-A.xlsx\",sheet_name=None)\n",
    "excel31= pd.read_excel(\"data_fbref_SerieA_300_partidos_Fiorentina-Atalanta-Abril-17-2023-Serie-A.xlsx\",sheet_name=None)\n",
    "excel32= pd.read_excel(\"data_fbref_SerieA_310_partidos_Atalanta-Roma-Abril-24-2023-Serie-A.xlsx\",sheet_name=None)\n",
    "excel33= pd.read_excel(\"data_fbref_SerieA_320_partidos_Bologna-Juventus-Abril-30-2023-Serie-A.xlsx\",sheet_name=None)\n",
    "excel34= pd.read_excel(\"data_fbref_SerieA_330_partidos_Empoli-Bologna-Mayo-4-2023-Serie-A.xlsx\",sheet_name=None)\n",
    "excel35= pd.read_excel(\"data_fbref_SerieA_340_partidos_Sassuolo-Bologna-Mayo-8-2023-Serie-A.xlsx\",sheet_name=None)\n",
    "excel36= pd.read_excel(\"data_fbref_SerieA_350_partidos_Sampdoria-Empoli-Mayo-15-2023-Serie-A.xlsx\",sheet_name=None)\n",
    "excel37= pd.read_excel(\"data_fbref_SerieA_360_partidos_Empoli-Juventus-Mayo-22-2023-Serie-A.xlsx\",sheet_name=None)\n",
    "excel38= pd.read_excel(\"data_fbref_SerieA_370_partidos_Juventus-Milan-Mayo-28-2023-Serie-A.xlsx\",sheet_name=None)\n",
    "excel39= pd.read_excel(\"data_fbref_SerieA_380_partidos_Roma-Spezia-Junio-4-2023-Serie-A.xlsx\",sheet_name=None)"
   ]
  },
  {
   "cell_type": "code",
   "execution_count": 23,
   "id": "ad8c40b9-07ce-4385-8574-796ce3ad6cbe",
   "metadata": {},
   "outputs": [],
   "source": [
    "excels= [excel1,excel2,excel3,excel4,excel5,excel6,excel7,excel8,excel9,excel10,excel12,excel13,excel14,excel15,excel16,excel17,excel18,excel19,excel20,excel21,excel22,excel23,excel24,excel25,excel26,excel27,excel28,excel29,excel30,excel31,excel32,excel33,excel34,excel35,excel36,excel37,excel38,excel39]"
   ]
  },
  {
   "cell_type": "code",
   "execution_count": 24,
   "id": "a6ad974a-ff41-408c-92b2-ad67499dbea9",
   "metadata": {},
   "outputs": [
    {
     "data": {
      "text/plain": [
       "37"
      ]
     },
     "execution_count": 24,
     "metadata": {},
     "output_type": "execute_result"
    }
   ],
   "source": [
    "len(excels[1:])"
   ]
  },
  {
   "cell_type": "code",
   "execution_count": 25,
   "id": "b311a97f-59c0-4af8-ab81-69ca4ff96b8d",
   "metadata": {},
   "outputs": [],
   "source": [
    "writer = pd.ExcelWriter('Info_serie_a_italia_compl_2022-2023.xlsx')\n",
    "nombres_hoja_partidos=[\"match_stats\",\"stats_keeper\",\"stats_summary\",\"stats_shots\",\"stats_passing\",\"stats_passing_types\",\"stats_defense\",\"stats_possession\",\"stats_misc\"]\n",
    "for nom in nombres_hoja_partidos:\n",
    "    info_match = excels[0][nom].copy()\n",
    "    for exc in excels[1:]:\n",
    "        info_match = pd.concat([info_match,exc[nom]])\n",
    "    info_match.to_excel(writer, nom)\n",
    "writer.save()\n",
    "writer.close()"
   ]
  }
 ],
 "metadata": {
  "kernelspec": {
   "display_name": "Python 3 (ipykernel)",
   "language": "python",
   "name": "python3"
  },
  "language_info": {
   "codemirror_mode": {
    "name": "ipython",
    "version": 3
   },
   "file_extension": ".py",
   "mimetype": "text/x-python",
   "name": "python",
   "nbconvert_exporter": "python",
   "pygments_lexer": "ipython3",
   "version": "3.8.13"
  }
 },
 "nbformat": 4,
 "nbformat_minor": 5
}
