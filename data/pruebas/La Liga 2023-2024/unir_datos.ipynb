{
 "cells": [
  {
   "cell_type": "code",
   "execution_count": 2,
   "metadata": {},
   "outputs": [],
   "source": [
    "import warnings\n",
    "warnings.filterwarnings('ignore')\n",
    "import pandas as pd\n",
    "import numpy as np\n",
    "import matplotlib.pyplot as plt\n",
    "import datetime\n",
    "# import seaborn as sns; sns.set()  # for plot styling\n",
    "import os"
   ]
  },
  {
   "cell_type": "code",
   "execution_count": 3,
   "metadata": {},
   "outputs": [],
   "source": [
    "# Directorio que contiene los archivos Excel\n",
    "directorio = \"./\"\n",
    "\n",
    "# Obtener la lista de archivos en el directorio\n",
    "archivos = os.listdir(directorio)\n",
    "\n",
    "# Filtrar solo los archivos Excel\n",
    "archivos_excel = [archivo for archivo in archivos if archivo.endswith(\".xlsx\")]\n",
    "\n",
    "# Inicializar una lista para almacenar los DataFrames de Excel\n",
    "excels = []\n",
    "\n",
    "# Leer cada archivo Excel y almacenar los DataFrames en la lista\n",
    "for archivo_excel in archivos_excel:\n",
    "    ruta_completa = os.path.join(directorio, archivo_excel)\n",
    "    excel = pd.read_excel(ruta_completa, sheet_name=None)\n",
    "    excels.append(excel)\n",
    "\n",
    "# Crear un objeto ExcelWriter\n",
    "writer = pd.ExcelWriter('Info_laliga_compl_2023-2024.xlsx')\n",
    "\n",
    "# Nombres de las hojas en los archivos Excel originales\n",
    "nombres_hoja_partidos = [\"match_stats\", \"stats_keeper\", \"stats_summary\", \"stats_shots\", \"stats_passing\", \"stats_passing_types\", \"stats_defense\", \"stats_possession\", \"stats_misc\"]\n",
    "\n",
    "# Iterar sobre las hojas y concatenar los DataFrames\n",
    "for nom in nombres_hoja_partidos:\n",
    "    info_match = excels[0][nom].copy()\n",
    "    for exc in excels[1:]:\n",
    "        info_match = pd.concat([info_match, exc[nom]])\n",
    "    info_match.to_excel(writer, nom)\n",
    "\n",
    "# Guardar y cerrar el archivo Excel resultante\n",
    "writer.save()\n",
    "writer.close()"
   ]
  },
  {
   "cell_type": "markdown",
   "metadata": {},
   "source": [
    "# Unificación información y creación de nuevas columnas"
   ]
  },
  {
   "cell_type": "code",
   "execution_count": null,
   "metadata": {},
   "outputs": [],
   "source": []
  }
 ],
 "metadata": {
  "kernelspec": {
   "display_name": "Python 3",
   "language": "python",
   "name": "python3"
  },
  "language_info": {
   "codemirror_mode": {
    "name": "ipython",
    "version": 3
   },
   "file_extension": ".py",
   "mimetype": "text/x-python",
   "name": "python",
   "nbconvert_exporter": "python",
   "pygments_lexer": "ipython3",
   "version": "3.9.13"
  }
 },
 "nbformat": 4,
 "nbformat_minor": 2
}
